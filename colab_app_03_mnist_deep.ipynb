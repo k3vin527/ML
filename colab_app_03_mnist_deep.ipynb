{
  "nbformat": 4,
  "nbformat_minor": 0,
  "metadata": {
    "colab": {
      "name": "colab_app_03_mnist_deep.ipynb",
      "provenance": [],
      "mount_file_id": "1MaFXjNJuLhWq3wuvyNpLkbM7MWzieQcg",
      "authorship_tag": "ABX9TyPNNuo2zclq122eUVuR/sog"
    },
    "kernelspec": {
      "name": "python3",
      "display_name": "Python 3"
    },
    "language_info": {
      "name": "python"
    },
    "accelerator": "GPU"
  },
  "cells": [
    {
      "cell_type": "code",
      "execution_count": 1,
      "metadata": {
        "id": "lbetLj4lbcaZ"
      },
      "outputs": [],
      "source": [
        "#-*- coding: utf-8 -*-\n",
        "\n",
        "from keras.datasets import mnist\n",
        "from keras.utils import np_utils\n",
        "from keras.models import Sequential\n",
        "from keras.layers import Dense, Dropout, Flatten, Conv2D, MaxPooling2D\n",
        "from keras.callbacks import ModelCheckpoint,EarlyStopping\n",
        "\n",
        "\n",
        "import matplotlib.pyplot as plt\n",
        "import numpy as np\n",
        "\n",
        "import os\n",
        "import tensorflow as tf\n"
      ]
    },
    {
      "cell_type": "code",
      "source": [
        "# seed 값 설정\n",
        "seed = 42\n",
        "np.random.seed(seed)\n",
        "tf.random.set_seed(42)\n"
      ],
      "metadata": {
        "id": "T_vHGILLbsFJ"
      },
      "execution_count": 2,
      "outputs": []
    },
    {
      "cell_type": "code",
      "source": [
        "# mnist 데이터 불러오기\n",
        "(X_train, Y_train), (X_test, Y_test) = mnist.load_data()"
      ],
      "metadata": {
        "id": "oZnvJlL4bvlt",
        "colab": {
          "base_uri": "https://localhost:8080/"
        },
        "outputId": "dfc8299b-bb0e-4737-8783-40db8ab14af3"
      },
      "execution_count": 3,
      "outputs": [
        {
          "output_type": "stream",
          "name": "stdout",
          "text": [
            "Downloading data from https://storage.googleapis.com/tensorflow/tf-keras-datasets/mnist.npz\n",
            "11493376/11490434 [==============================] - 0s 0us/step\n",
            "11501568/11490434 [==============================] - 0s 0us/step\n"
          ]
        }
      ]
    },
    {
      "cell_type": "code",
      "source": [
        "# 정규화\n",
        "X_train = X_train.reshape(X_train.shape[0], 28, 28, 1).astype('float64') / 255\n",
        "X_test = X_test.reshape(X_test.shape[0], 28, 28, 1).astype('float64') / 255\n",
        "\n",
        "# 28, 28, 1 : 28*28 , 1 1channel (흑백) , 3 channel (컬러 :rgb)\n",
        "# astype('float32') : 정규화 위해 실수형으로 타입 변경\n",
        "# 255 나눈 이유 : 0~ 1 사이로 스케일링"
      ],
      "metadata": {
        "id": "OmTxaH-Sb5kw"
      },
      "execution_count": 5,
      "outputs": []
    },
    {
      "cell_type": "code",
      "source": [
        "# 바이너리화 (one-hot-encoding)\n",
        "Y_train = np_utils.to_categorical(Y_train, 10)\n",
        "Y_test = np_utils.to_categorical(Y_test, 10)\n",
        "\n",
        "# np 제공하는 to_categorical : one-hot encoding"
      ],
      "metadata": {
        "id": "-IXtVD1TcKLH"
      },
      "execution_count": 6,
      "outputs": []
    },
    {
      "cell_type": "code",
      "source": [
        "# 모델 생성 (프레임 설정 : 환경설정), 컨볼루션 신경망 (cnn)\n",
        "model = Sequential()\n",
        "model.add(Conv2D(32, kernel_size = (3,3), input_shape = (28,28,1), activation = 'relu'))\n",
        "# 32 : mask 개수, kernel_size = (3,3) : kernel(윈도우)  필터 3*3 사용, input_shape 사용에 유의\n",
        "\n",
        "model.add(Conv2D(64, (3,3), activation = 'relu'))\n",
        "model.add(MaxPooling2D(pool_size=2))\n",
        "# maxpooling 가장 큰 특징값(max) 추출 (특성정보), pool_size = 2 : 크기로 1/2 로 줄임\n",
        "\n",
        "model.add(Dropout(0.25))\n",
        "# dropout : 은닉층의 연결층을 무작위(random하게)로 끊는다 >> 과적합 방지\n",
        "\n",
        "model.add(Flatten())\n",
        "# flatten() : 1차원으로 차원 축소 (2차원 >> 1차원)\n",
        "\n",
        "model.add(Dense(128, activation='relu'))\n",
        "model.add(Dense(10, activation = 'softmax'))\n",
        "# 출력결과가 10개 분류 (0~9), 다중 분류 : softmax\n"
      ],
      "metadata": {
        "id": "_IxewyKPcfT_"
      },
      "execution_count": 40,
      "outputs": []
    },
    {
      "cell_type": "code",
      "source": [
        "# 모델실행 환경설정\n",
        "model.compile(loss = 'categorical_crossentropy', # loss : cost function : 범주형 크로스 엔트로피\n",
        "              optimizer = 'adam',            # 최적화 함수 : adam\n",
        "              metrics = ['accuracy'])       # 측정지표 : 정확도"
      ],
      "metadata": {
        "id": "tf4VRjWzeVOA"
      },
      "execution_count": 41,
      "outputs": []
    },
    {
      "cell_type": "code",
      "source": [
        "# 모델 최적화 설정\n",
        "MODEL_DIR = './model/' # 모델 디렉토리 생성(폴더)\n",
        "if not os.path.exists(MODEL_DIR): # 모델 디렉토리에 폴더가 없다면, \n",
        "  os.mkdir(MODEL_DIR)             # 만들어 주세요(mkdir : make a directory)\n",
        "\n",
        "modelpath = './model/{epoch:02d}-{val_loss:.4f}.hdf5' # 모델 저장 경로 생성\n",
        "checkpointer = ModelCheckpoint(filepath = modelpath, monitor = 'val_loss',\n",
        "                               verbose = 1, save_best_only=True)\n",
        "# val_loss 를 monitoring 주시함. verbose : 결과 상황판 , 성능이 나아진 것만 보기\n",
        "early_stopping_callback = EarlyStopping(monitor = 'val_loss', patience = 10)\n",
        "# val_loss 를 monitoring 주시함. 성능이 x 이상 돌려서 나아지지 않으면 그만 둬"
      ],
      "metadata": {
        "id": "zTIeRQxSfApv"
      },
      "execution_count": 42,
      "outputs": []
    },
    {
      "cell_type": "code",
      "source": [
        "# 모델 실행 (학습 : 훈련용 데이터 셋으로 하세요)\n",
        "history = model.fit(X_train, Y_train, validation_data=(X_test, Y_test),\n",
        "          epochs = 30, batch_size = 200, verbose = 1,\n",
        "          callbacks = [early_stopping_callback, checkpointer])\n",
        "\n",
        "# 모델 학습 : fit , 훈련용 데이터로 함 \n",
        "# 검증 데이터(validation_data : 테스트 데이터 사용)\n",
        "# epochs : 반복횟수, batch_size : 샘플 200개 추출,  verbose: 훈련상황 보여줌 \n",
        "# callbacks : 조기종료, 성능개선 여부 확인\n"
      ],
      "metadata": {
        "colab": {
          "base_uri": "https://localhost:8080/"
        },
        "id": "B_kd2KvLhAW5",
        "outputId": "39309f8d-73e4-4604-e4b7-191b267a92df"
      },
      "execution_count": 43,
      "outputs": [
        {
          "output_type": "stream",
          "name": "stdout",
          "text": [
            "Epoch 1/30\n",
            "299/300 [============================>.] - ETA: 0s - loss: 0.2657 - accuracy: 0.9177\n",
            "Epoch 1: val_loss improved from inf to 0.05575, saving model to ./model/01-0.0557.hdf5\n",
            "300/300 [==============================] - 16s 24ms/step - loss: 0.2650 - accuracy: 0.9179 - val_loss: 0.0557 - val_accuracy: 0.9821\n",
            "Epoch 2/30\n",
            "298/300 [============================>.] - ETA: 0s - loss: 0.0853 - accuracy: 0.9736\n",
            "Epoch 2: val_loss improved from 0.05575 to 0.04059, saving model to ./model/02-0.0406.hdf5\n",
            "300/300 [==============================] - 7s 23ms/step - loss: 0.0855 - accuracy: 0.9735 - val_loss: 0.0406 - val_accuracy: 0.9868\n",
            "Epoch 3/30\n",
            "298/300 [============================>.] - ETA: 0s - loss: 0.0630 - accuracy: 0.9805\n",
            "Epoch 3: val_loss improved from 0.04059 to 0.03338, saving model to ./model/03-0.0334.hdf5\n",
            "300/300 [==============================] - 7s 23ms/step - loss: 0.0628 - accuracy: 0.9805 - val_loss: 0.0334 - val_accuracy: 0.9886\n",
            "Epoch 4/30\n",
            "298/300 [============================>.] - ETA: 0s - loss: 0.0529 - accuracy: 0.9839\n",
            "Epoch 4: val_loss did not improve from 0.03338\n",
            "300/300 [==============================] - 7s 22ms/step - loss: 0.0530 - accuracy: 0.9839 - val_loss: 0.0335 - val_accuracy: 0.9899\n",
            "Epoch 5/30\n",
            "298/300 [============================>.] - ETA: 0s - loss: 0.0431 - accuracy: 0.9864\n",
            "Epoch 5: val_loss did not improve from 0.03338\n",
            "300/300 [==============================] - 7s 23ms/step - loss: 0.0430 - accuracy: 0.9865 - val_loss: 0.0335 - val_accuracy: 0.9889\n",
            "Epoch 6/30\n",
            "300/300 [==============================] - ETA: 0s - loss: 0.0399 - accuracy: 0.9876\n",
            "Epoch 6: val_loss improved from 0.03338 to 0.02813, saving model to ./model/06-0.0281.hdf5\n",
            "300/300 [==============================] - 7s 23ms/step - loss: 0.0399 - accuracy: 0.9876 - val_loss: 0.0281 - val_accuracy: 0.9909\n",
            "Epoch 7/30\n",
            "298/300 [============================>.] - ETA: 0s - loss: 0.0353 - accuracy: 0.9890\n",
            "Epoch 7: val_loss did not improve from 0.02813\n",
            "300/300 [==============================] - 7s 22ms/step - loss: 0.0352 - accuracy: 0.9890 - val_loss: 0.0284 - val_accuracy: 0.9909\n",
            "Epoch 8/30\n",
            "300/300 [==============================] - ETA: 0s - loss: 0.0335 - accuracy: 0.9898\n",
            "Epoch 8: val_loss improved from 0.02813 to 0.02582, saving model to ./model/08-0.0258.hdf5\n",
            "300/300 [==============================] - 7s 23ms/step - loss: 0.0335 - accuracy: 0.9898 - val_loss: 0.0258 - val_accuracy: 0.9915\n",
            "Epoch 9/30\n",
            "298/300 [============================>.] - ETA: 0s - loss: 0.0265 - accuracy: 0.9914\n",
            "Epoch 9: val_loss did not improve from 0.02582\n",
            "300/300 [==============================] - 7s 23ms/step - loss: 0.0264 - accuracy: 0.9914 - val_loss: 0.0288 - val_accuracy: 0.9914\n",
            "Epoch 10/30\n",
            "298/300 [============================>.] - ETA: 0s - loss: 0.0263 - accuracy: 0.9915\n",
            "Epoch 10: val_loss did not improve from 0.02582\n",
            "300/300 [==============================] - 7s 22ms/step - loss: 0.0263 - accuracy: 0.9915 - val_loss: 0.0291 - val_accuracy: 0.9909\n",
            "Epoch 11/30\n",
            "299/300 [============================>.] - ETA: 0s - loss: 0.0225 - accuracy: 0.9926\n",
            "Epoch 11: val_loss did not improve from 0.02582\n",
            "300/300 [==============================] - 7s 23ms/step - loss: 0.0227 - accuracy: 0.9926 - val_loss: 0.0274 - val_accuracy: 0.9915\n",
            "Epoch 12/30\n",
            "298/300 [============================>.] - ETA: 0s - loss: 0.0235 - accuracy: 0.9919\n",
            "Epoch 12: val_loss did not improve from 0.02582\n",
            "300/300 [==============================] - 7s 23ms/step - loss: 0.0236 - accuracy: 0.9919 - val_loss: 0.0317 - val_accuracy: 0.9907\n",
            "Epoch 13/30\n",
            "298/300 [============================>.] - ETA: 0s - loss: 0.0215 - accuracy: 0.9932\n",
            "Epoch 13: val_loss did not improve from 0.02582\n",
            "300/300 [==============================] - 7s 22ms/step - loss: 0.0215 - accuracy: 0.9932 - val_loss: 0.0304 - val_accuracy: 0.9910\n",
            "Epoch 14/30\n",
            "299/300 [============================>.] - ETA: 0s - loss: 0.0190 - accuracy: 0.9939\n",
            "Epoch 14: val_loss did not improve from 0.02582\n",
            "300/300 [==============================] - 7s 23ms/step - loss: 0.0190 - accuracy: 0.9939 - val_loss: 0.0299 - val_accuracy: 0.9913\n",
            "Epoch 15/30\n",
            "298/300 [============================>.] - ETA: 0s - loss: 0.0175 - accuracy: 0.9938\n",
            "Epoch 15: val_loss did not improve from 0.02582\n",
            "300/300 [==============================] - 7s 22ms/step - loss: 0.0175 - accuracy: 0.9938 - val_loss: 0.0292 - val_accuracy: 0.9921\n",
            "Epoch 16/30\n",
            "298/300 [============================>.] - ETA: 0s - loss: 0.0175 - accuracy: 0.9941\n",
            "Epoch 16: val_loss did not improve from 0.02582\n",
            "300/300 [==============================] - 7s 22ms/step - loss: 0.0175 - accuracy: 0.9941 - val_loss: 0.0296 - val_accuracy: 0.9916\n",
            "Epoch 17/30\n",
            "300/300 [==============================] - ETA: 0s - loss: 0.0156 - accuracy: 0.9948\n",
            "Epoch 17: val_loss did not improve from 0.02582\n",
            "300/300 [==============================] - 7s 23ms/step - loss: 0.0156 - accuracy: 0.9948 - val_loss: 0.0308 - val_accuracy: 0.9920\n",
            "Epoch 18/30\n",
            "298/300 [============================>.] - ETA: 0s - loss: 0.0146 - accuracy: 0.9951\n",
            "Epoch 18: val_loss did not improve from 0.02582\n",
            "300/300 [==============================] - 7s 23ms/step - loss: 0.0147 - accuracy: 0.9951 - val_loss: 0.0306 - val_accuracy: 0.9929\n"
          ]
        }
      ]
    },
    {
      "cell_type": "code",
      "source": [
        "# 테스트 정확도 출력\n",
        "print('\\n Test Accuracy : %.4f' %(model.evaluate(X_test, Y_test)[1]))"
      ],
      "metadata": {
        "colab": {
          "base_uri": "https://localhost:8080/"
        },
        "id": "bo4XlV4miEM3",
        "outputId": "096ce443-c3a3-4052-b57b-b9102bf7b6b6"
      },
      "execution_count": 44,
      "outputs": [
        {
          "output_type": "stream",
          "name": "stdout",
          "text": [
            "313/313 [==============================] - 2s 5ms/step - loss: 0.0306 - accuracy: 0.9929\n",
            "\n",
            " Test Accuracy : 0.9929\n"
          ]
        }
      ]
    },
    {
      "cell_type": "code",
      "source": [
        "# 테스트셋의 오차\n",
        "y_vloss = history.history['val_loss']\n",
        "\n",
        "# 학습셋의 오차\n",
        "y_loss = history.history['loss']"
      ],
      "metadata": {
        "id": "GjYpp86FiSIM"
      },
      "execution_count": 45,
      "outputs": []
    },
    {
      "cell_type": "code",
      "source": [
        "# 그래프로 표현\n",
        "x_len = np.arange(len(y_loss))\n",
        "plt.plot(x_len, y_vloss, marker = '.', c='red', label = 'Testset_loss')\n",
        "plt.plot(x_len, y_loss, marker='.', c='blue', label = 'Trainset_loss')\n",
        "\n",
        "# 그래프에서 그리드를 주고 레이블을 표시\n",
        "plt.legend(loc = 'upper right')\n",
        "plt.grid()\n",
        "plt.xlabel('epoch')\n",
        "plt.ylabel('loss')\n",
        "plt.show()\n"
      ],
      "metadata": {
        "colab": {
          "base_uri": "https://localhost:8080/",
          "height": 279
        },
        "id": "WMThUSc0j0IX",
        "outputId": "896736f1-4629-412c-a4a7-d45f5e2011c6"
      },
      "execution_count": 46,
      "outputs": [
        {
          "output_type": "display_data",
          "data": {
            "image/png": "[encoded data removed]",
            "text/plain": [
              "<Figure size 432x288 with 1 Axes>"
            ]
          },
          "metadata": {
            "needs_background": "light"
          }
        }
      ]
    },
    {
      "cell_type": "code",
      "source": [
        ""
      ],
      "metadata": {
        "id": "VQBrCQs2kxFk"
      },
      "execution_count": 46,
      "outputs": []
    }
  ]
}