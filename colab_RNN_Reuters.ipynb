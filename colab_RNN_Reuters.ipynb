{
  "nbformat": 4,
  "nbformat_minor": 0,
  "metadata": {
    "colab": {
      "name": "colab_RNN_Reuters.ipynb",
      "provenance": [],
      "mount_file_id": "1ZSL2dxlKIWlm6_xUBBlIQGnDAe_AVT1L",
      "authorship_tag": "ABX9TyNHEyClXGQxAWeQB6Ctu3YJ"
    },
    "kernelspec": {
      "name": "python3",
      "display_name": "Python 3"
    },
    "language_info": {
      "name": "python"
    },
    "accelerator": "GPU"
  },
  "cells": [
    {
      "cell_type": "code",
      "execution_count": 1,
      "metadata": {
        "id": "GE8bHQUZ5HTU"
      },
      "outputs": [],
      "source": [
        "# -*- coding: utf-8 -*-\n",
        "# 코드 내부에 한글을 사용가능 하게 해주는 부분입니다.\n",
        "\n",
        "import numpy as np\n",
        "import tensorflow as tf\n",
        "import matplotlib.pyplot as plt\n",
        "\n",
        "# 로이터 뉴스 데이터셋 불러오기\n",
        "from keras.datasets import reuters\n",
        "from keras.models import Sequential\n",
        "#from tensorflow.keras.models import Sequential\n",
        "#from tensorflow.keras.layers import Dense,LSTM,Embedding\n",
        "from keras.layers import Dense, LSTM, Embedding\n",
        "from keras.preprocessing import sequence\n",
        "from keras.utils import np_utils"
      ]
    },
    {
      "cell_type": "code",
      "source": [
        "# seed 값 설정\n",
        "seed = 42\n",
        "np.random.seed(seed)\n",
        "tf.random.set_seed(42)"
      ],
      "metadata": {
        "id": "9Yu_wEQB5coZ"
      },
      "execution_count": 2,
      "outputs": []
    },
    {
      "cell_type": "code",
      "source": [
        "# train, test split\n",
        "(x_train, y_train), (x_test, y_test)= reuters.load_data(num_words = 1000, test_split = 0.2)"
      ],
      "metadata": {
        "colab": {
          "base_uri": "https://localhost:8080/"
        },
        "id": "S17R79sA5mc9",
        "outputId": "12448f29-42d7-49b2-b7b6-f60cbde2d3b8"
      },
      "execution_count": 4,
      "outputs": [
        {
          "output_type": "stream",
          "name": "stdout",
          "text": [
            "Downloading data from https://storage.googleapis.com/tensorflow/tf-keras-datasets/reuters.npz\n",
            "2113536/2110848 [==============================] - 0s 0us/step\n",
            "2121728/2110848 [==============================] - 0s 0us/step\n"
          ]
        }
      ]
    },
    {
      "cell_type": "code",
      "source": [
        "y_train.shape"
      ],
      "metadata": {
        "colab": {
          "base_uri": "https://localhost:8080/"
        },
        "id": "gkbQEpQB54OA",
        "outputId": "f7891ad0-10b1-44c5-fcab-236b69b8e54c"
      },
      "execution_count": 6,
      "outputs": [
        {
          "output_type": "execute_result",
          "data": {
            "text/plain": [
              "(8982,)"
            ]
          },
          "metadata": {},
          "execution_count": 6
        }
      ]
    },
    {
      "cell_type": "code",
      "source": [
        "y_train[:5]"
      ],
      "metadata": {
        "colab": {
          "base_uri": "https://localhost:8080/"
        },
        "id": "K_apDqri5-mA",
        "outputId": "d8b753b6-8ce9-44b4-ca54-81fdca3dce06"
      },
      "execution_count": 9,
      "outputs": [
        {
          "output_type": "execute_result",
          "data": {
            "text/plain": [
              "array([3, 4, 3, 4, 4])"
            ]
          },
          "metadata": {},
          "execution_count": 9
        }
      ]
    },
    {
      "cell_type": "code",
      "source": [
        "# 데이터 확인\n",
        "np.max(y_train)"
      ],
      "metadata": {
        "colab": {
          "base_uri": "https://localhost:8080/"
        },
        "id": "jRRl_-RB6BiG",
        "outputId": "66455dfd-1a77-475b-cf32-1303cb2cbecb"
      },
      "execution_count": 10,
      "outputs": [
        {
          "output_type": "execute_result",
          "data": {
            "text/plain": [
              "45"
            ]
          },
          "metadata": {},
          "execution_count": 10
        }
      ]
    },
    {
      "cell_type": "code",
      "source": [
        "category = np.max(y_train) + 1"
      ],
      "metadata": {
        "id": "USWGXXa26LWA"
      },
      "execution_count": 11,
      "outputs": []
    },
    {
      "cell_type": "code",
      "source": [
        "print(category, '카테고리')\n",
        "print(len(x_train), '학습용 뉴스 기사')\n",
        "print(len(x_test), '테스트용 뉴스 기사')\n",
        "print(x_train[0])"
      ],
      "metadata": {
        "colab": {
          "base_uri": "https://localhost:8080/"
        },
        "id": "BvbbaDNF6PGh",
        "outputId": "c3d8385f-096d-4f70-f17c-a20ff6b8f74e"
      },
      "execution_count": 12,
      "outputs": [
        {
          "output_type": "stream",
          "name": "stdout",
          "text": [
            "46 카테고리\n",
            "8982 학습용 뉴스 기사\n",
            "2246 테스트용 뉴스 기사\n",
            "[1, 2, 2, 8, 43, 10, 447, 5, 25, 207, 270, 5, 2, 111, 16, 369, 186, 90, 67, 7, 89, 5, 19, 102, 6, 19, 124, 15, 90, 67, 84, 22, 482, 26, 7, 48, 4, 49, 8, 864, 39, 209, 154, 6, 151, 6, 83, 11, 15, 22, 155, 11, 15, 7, 48, 9, 2, 2, 504, 6, 258, 6, 272, 11, 15, 22, 134, 44, 11, 15, 16, 8, 197, 2, 90, 67, 52, 29, 209, 30, 32, 132, 6, 109, 15, 17, 12]\n"
          ]
        }
      ]
    },
    {
      "cell_type": "markdown",
      "source": [
        "데이터 전처리"
      ],
      "metadata": {
        "id": "dB7-P8Bl6mw8"
      }
    },
    {
      "cell_type": "code",
      "source": [
        "sequence.pad_sequences(x_train, maxlen = 100)"
      ],
      "metadata": {
        "colab": {
          "base_uri": "https://localhost:8080/"
        },
        "id": "WmVXYolY6olN",
        "outputId": "d994cb91-4519-4e96-b59b-12816cfe1cd7"
      },
      "execution_count": 13,
      "outputs": [
        {
          "output_type": "execute_result",
          "data": {
            "text/plain": [
              "array([[  0,   0,   0, ...,  15,  17,  12],\n",
              "       [  0,   0,   0, ..., 505,  17,  12],\n",
              "       [ 19, 758,  15, ...,  11,  17,  12],\n",
              "       ...,\n",
              "       [  0,   0,   0, ..., 407,  17,  12],\n",
              "       [ 88,   2,  72, ..., 364,  17,  12],\n",
              "       [125,   2,  21, ..., 113,  17,  12]], dtype=int32)"
            ]
          },
          "metadata": {},
          "execution_count": 13
        }
      ]
    },
    {
      "cell_type": "code",
      "source": [
        "maxlen =100"
      ],
      "metadata": {
        "id": "XXYwnoj47q2a"
      },
      "execution_count": 17,
      "outputs": []
    },
    {
      "cell_type": "code",
      "source": [
        "x_train = sequence.pad_sequences(x_train, maxlen = 100)\n",
        "x_test = sequence.pad_sequences(x_test, maxlen = 100)\n",
        "y_train = np_utils.to_categorical(y_train)\n",
        "y_test = np_utils.to_categorical(y_test)"
      ],
      "metadata": {
        "id": "ns0PHz496uTI"
      },
      "execution_count": 14,
      "outputs": []
    },
    {
      "cell_type": "code",
      "source": [
        "x_train, x_test"
      ],
      "metadata": {
        "colab": {
          "base_uri": "https://localhost:8080/"
        },
        "id": "BGaZ4Mj17E9C",
        "outputId": "93727464-02a5-48bf-8baf-083472fe5b2b"
      },
      "execution_count": 16,
      "outputs": [
        {
          "output_type": "execute_result",
          "data": {
            "text/plain": [
              "(array([[  0,   0,   0, ...,  15,  17,  12],\n",
              "        [  0,   0,   0, ..., 505,  17,  12],\n",
              "        [ 19, 758,  15, ...,  11,  17,  12],\n",
              "        ...,\n",
              "        [  0,   0,   0, ..., 407,  17,  12],\n",
              "        [ 88,   2,  72, ..., 364,  17,  12],\n",
              "        [125,   2,  21, ..., 113,  17,  12]], dtype=int32),\n",
              " array([[  5,   2,   7, ..., 510,  17,  12],\n",
              "        [652, 194,   2, ..., 760,  17,  12],\n",
              "        [ 13,  10, 139, ...,   8,  17,  12],\n",
              "        ...,\n",
              "        [  0,   0,   0, ...,  11,  17,  12],\n",
              "        [  0,   0,   0, ...,   8,  17,  12],\n",
              "        [ 47, 758,  15, ...,   2,  17,  12]], dtype=int32))"
            ]
          },
          "metadata": {},
          "execution_count": 16
        }
      ]
    },
    {
      "cell_type": "code",
      "source": [
        "y_train, y_test"
      ],
      "metadata": {
        "colab": {
          "base_uri": "https://localhost:8080/"
        },
        "id": "hnnxA4LA6-4u",
        "outputId": "a3880619-5f45-45ed-e6d0-7b3d62171d03"
      },
      "execution_count": 15,
      "outputs": [
        {
          "output_type": "execute_result",
          "data": {
            "text/plain": [
              "(array([[0., 0., 0., ..., 0., 0., 0.],\n",
              "        [0., 0., 0., ..., 0., 0., 0.],\n",
              "        [0., 0., 0., ..., 0., 0., 0.],\n",
              "        ...,\n",
              "        [0., 0., 0., ..., 0., 0., 0.],\n",
              "        [0., 0., 0., ..., 0., 0., 0.],\n",
              "        [0., 0., 0., ..., 0., 0., 0.]], dtype=float32),\n",
              " array([[0., 0., 0., ..., 0., 0., 0.],\n",
              "        [0., 0., 0., ..., 0., 0., 0.],\n",
              "        [0., 1., 0., ..., 0., 0., 0.],\n",
              "        ...,\n",
              "        [0., 0., 0., ..., 0., 0., 0.],\n",
              "        [0., 0., 0., ..., 0., 0., 0.],\n",
              "        [0., 0., 0., ..., 0., 0., 0.]], dtype=float32))"
            ]
          },
          "metadata": {},
          "execution_count": 15
        }
      ]
    },
    {
      "cell_type": "markdown",
      "source": [
        "모델 설정"
      ],
      "metadata": {
        "id": "b7KxkOts7Oyh"
      }
    },
    {
      "cell_type": "code",
      "source": [
        "model = Sequential()\n",
        "model.add(Embedding(1000, maxlen))\n",
        "model.add(LSTM(maxlen, activation = 'tanh')) # LSTM 하이퍼볼릭 탄젠트 함수 사용\n",
        "model.add(Dense(category, activation = 'softmax')) # 다중분류"
      ],
      "metadata": {
        "id": "cIoVONut7V_S"
      },
      "execution_count": 18,
      "outputs": []
    },
    {
      "cell_type": "code",
      "source": [
        "# 모델 컴파일\n",
        "\n",
        "model.compile(loss = 'categorical_crossentropy',\n",
        "              optimizer='adam',\n",
        "              metrics= ['accuracy'])"
      ],
      "metadata": {
        "id": "VfE4bfGu7_Ix"
      },
      "execution_count": 19,
      "outputs": []
    },
    {
      "cell_type": "code",
      "source": [
        "# 모델 실행\n",
        "history = model.fit(x_train, y_train, batch_size = 100, epochs = 20, validation_data=(x_test, y_test))"
      ],
      "metadata": {
        "colab": {
          "base_uri": "https://localhost:8080/"
        },
        "id": "jFpreghV8Xf7",
        "outputId": "834f791b-ef56-4138-eeef-10099e2c72aa"
      },
      "execution_count": 20,
      "outputs": [
        {
          "output_type": "stream",
          "name": "stdout",
          "text": [
            "Epoch 1/20\n",
            "90/90 [==============================] - 9s 34ms/step - loss: 2.5334 - accuracy: 0.3889 - val_loss: 2.0804 - val_accuracy: 0.4987\n",
            "Epoch 2/20\n",
            "90/90 [==============================] - 2s 24ms/step - loss: 2.0484 - accuracy: 0.4960 - val_loss: 1.9887 - val_accuracy: 0.5174\n",
            "Epoch 3/20\n",
            "90/90 [==============================] - 2s 24ms/step - loss: 1.9219 - accuracy: 0.5069 - val_loss: 1.8407 - val_accuracy: 0.5267\n",
            "Epoch 4/20\n",
            "90/90 [==============================] - 2s 24ms/step - loss: 1.6701 - accuracy: 0.5764 - val_loss: 1.6501 - val_accuracy: 0.5931\n",
            "Epoch 5/20\n",
            "90/90 [==============================] - 2s 24ms/step - loss: 1.5735 - accuracy: 0.5994 - val_loss: 1.5651 - val_accuracy: 0.6140\n",
            "Epoch 6/20\n",
            "90/90 [==============================] - 2s 24ms/step - loss: 1.4687 - accuracy: 0.6251 - val_loss: 1.5355 - val_accuracy: 0.6126\n",
            "Epoch 7/20\n",
            "90/90 [==============================] - 2s 25ms/step - loss: 1.3853 - accuracy: 0.6487 - val_loss: 1.4570 - val_accuracy: 0.6313\n",
            "Epoch 8/20\n",
            "90/90 [==============================] - 2s 25ms/step - loss: 1.3242 - accuracy: 0.6644 - val_loss: 1.4420 - val_accuracy: 0.6345\n",
            "Epoch 9/20\n",
            "90/90 [==============================] - 2s 25ms/step - loss: 1.2532 - accuracy: 0.6805 - val_loss: 1.3976 - val_accuracy: 0.6434\n",
            "Epoch 10/20\n",
            "90/90 [==============================] - 2s 25ms/step - loss: 1.2092 - accuracy: 0.6912 - val_loss: 1.3795 - val_accuracy: 0.6532\n",
            "Epoch 11/20\n",
            "90/90 [==============================] - 2s 25ms/step - loss: 1.1605 - accuracy: 0.7051 - val_loss: 1.3073 - val_accuracy: 0.6759\n",
            "Epoch 12/20\n",
            "90/90 [==============================] - 2s 25ms/step - loss: 1.0947 - accuracy: 0.7220 - val_loss: 1.2935 - val_accuracy: 0.6794\n",
            "Epoch 13/20\n",
            "90/90 [==============================] - 2s 24ms/step - loss: 1.0656 - accuracy: 0.7288 - val_loss: 1.2924 - val_accuracy: 0.6785\n",
            "Epoch 14/20\n",
            "90/90 [==============================] - 2s 24ms/step - loss: 1.0159 - accuracy: 0.7405 - val_loss: 1.2551 - val_accuracy: 0.6932\n",
            "Epoch 15/20\n",
            "90/90 [==============================] - 2s 24ms/step - loss: 0.9772 - accuracy: 0.7488 - val_loss: 1.2560 - val_accuracy: 0.6968\n",
            "Epoch 16/20\n",
            "90/90 [==============================] - 2s 24ms/step - loss: 0.9355 - accuracy: 0.7645 - val_loss: 1.2247 - val_accuracy: 0.7044\n",
            "Epoch 17/20\n",
            "90/90 [==============================] - 2s 24ms/step - loss: 0.9064 - accuracy: 0.7727 - val_loss: 1.2754 - val_accuracy: 0.6870\n",
            "Epoch 18/20\n",
            "90/90 [==============================] - 2s 24ms/step - loss: 0.8854 - accuracy: 0.7762 - val_loss: 1.2113 - val_accuracy: 0.7079\n",
            "Epoch 19/20\n",
            "90/90 [==============================] - 2s 26ms/step - loss: 0.8306 - accuracy: 0.7901 - val_loss: 1.2212 - val_accuracy: 0.7079\n",
            "Epoch 20/20\n",
            "90/90 [==============================] - 3s 28ms/step - loss: 0.8209 - accuracy: 0.7947 - val_loss: 1.2612 - val_accuracy: 0.6950\n"
          ]
        }
      ]
    },
    {
      "cell_type": "code",
      "source": [
        "# 테스트 정확도 출력\n",
        "print('\\n Test ACC : %.4f'%(model.evaluate(x_test, y_test)[1]))"
      ],
      "metadata": {
        "colab": {
          "base_uri": "https://localhost:8080/"
        },
        "id": "IzGvF_LK8m2F",
        "outputId": "06f9053d-11a4-4828-bda5-37eab0e0af30"
      },
      "execution_count": 22,
      "outputs": [
        {
          "output_type": "stream",
          "name": "stdout",
          "text": [
            "71/71 [==============================] - 1s 11ms/step - loss: 1.2612 - accuracy: 0.6950\n",
            "\n",
            " Test ACC : 0.6950\n"
          ]
        }
      ]
    },
    {
      "cell_type": "code",
      "source": [
        "# 테스트 셋의 오차\n",
        "y_vloss = history.history['val_loss']"
      ],
      "metadata": {
        "id": "liqi1LP79D0c"
      },
      "execution_count": 23,
      "outputs": []
    },
    {
      "cell_type": "code",
      "source": [
        "# 학습용 셋의 오차\n",
        "y_loss =history.history['loss']"
      ],
      "metadata": {
        "id": "B7DpusSy9VXH"
      },
      "execution_count": 24,
      "outputs": []
    },
    {
      "cell_type": "code",
      "source": [
        "# 그래프로 표현\n",
        "x_len = np.arange(len(y_loss))\n",
        "plt.plot(x_len, y_vloss, marker = '.', c = 'red', label = 'testset_loss')\n",
        "plt.plot(x_len, y_loss, marker = '.', c = 'blue', label = 'trainset_loss')\n",
        "\n",
        "# 그리드 주고, 레이블 표시\n",
        "plt.legend(loc = 'upper right')\n",
        "plt.grid()\n",
        "plt.xlabel('epoch')\n",
        "plt.ylabel('loss')\n",
        "plt.show()"
      ],
      "metadata": {
        "colab": {
          "base_uri": "https://localhost:8080/",
          "height": 279
        },
        "id": "Ncu3mvNL9ZNV",
        "outputId": "cb7904f7-e4e5-4d29-ff2f-1e40f6b83b70"
      },
      "execution_count": 25,
      "outputs": [
        {
          "output_type": "display_data",
          "data": {
            "image/png": "[encoded data removed]",
            "text/plain": [
              "<Figure size 432x288 with 1 Axes>"
            ]
          },
          "metadata": {
            "needs_background": "light"
          }
        }
      ]
    }
  ]
}