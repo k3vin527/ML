{
  "nbformat": 4,
  "nbformat_minor": 0,
  "metadata": {
    "colab": {
      "name": "colab_02.pima_indin_practice.ipynb",
      "provenance": [],
      "authorship_tag": "ABX9TyOLJwcSKM1U1krT4tzFpcgr",
      "include_colab_link": true
    },
    "kernelspec": {
      "name": "python3",
      "display_name": "Python 3"
    },
    "language_info": {
      "name": "python"
    }
  },
  "cells": [
    {
      "cell_type": "markdown",
      "metadata": {
        "id": "view-in-github",
        "colab_type": "text"
      },
      "source": [
        "<a href=\"https://colab.research.google.com/github/k3vin527/ML/blob/master/colab_02_pima_indin_practice.ipynb\" target=\"_parent\"><img src=\"https://colab.research.google.com/assets/colab-badge.svg\" alt=\"Open In Colab\"/></a>"
      ]
    },
    {
      "cell_type": "code",
      "source": [
        "pwd"
      ],
      "metadata": {
        "colab": {
          "base_uri": "https://localhost:8080/",
          "height": 35
        },
        "id": "K4vDa6uyJrz5",
        "outputId": "c214c492-d69d-4ec8-d88a-dd531d6d8913"
      },
      "execution_count": 3,
      "outputs": [
        {
          "output_type": "execute_result",
          "data": {
            "application/vnd.google.colaboratory.intrinsic+json": {
              "type": "string"
            },
            "text/plain": [
              "'/content'"
            ]
          },
          "metadata": {},
          "execution_count": 3
        }
      ]
    },
    {
      "cell_type": "code",
      "execution_count": 1,
      "metadata": {
        "colab": {
          "resources": {
            "http://localhost:8080/nbextensions/google.colab/files.js": {
              "data": "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",
              "ok": true,
              "headers": [
                [
                  "content-type",
                  "application/javascript"
                ]
              ],
              "status": 200,
              "status_text": ""
            }
          },
          "base_uri": "https://localhost:8080/",
          "height": 94
        },
        "id": "ClvX1cTBIpk5",
        "outputId": "1eb10a67-e525-40ca-827a-39fd1feb2d0c"
      },
      "outputs": [
        {
          "output_type": "display_data",
          "data": {
            "text/html": [
              "\n",
              "     <input type=\"file\" id=\"files-b2173934-a2cb-4531-bb5b-4a5ba7f03460\" name=\"files[]\" multiple disabled\n",
              "        style=\"border:none\" />\n",
              "     <output id=\"result-b2173934-a2cb-4531-bb5b-4a5ba7f03460\">\n",
              "      Upload widget is only available when the cell has been executed in the\n",
              "      current browser session. Please rerun this cell to enable.\n",
              "      </output>\n",
              "      <script src=\"/nbextensions/google.colab/files.js\"></script> "
            ],
            "text/plain": [
              "<IPython.core.display.HTML object>"
            ]
          },
          "metadata": {}
        },
        {
          "output_type": "stream",
          "name": "stdout",
          "text": [
            "Saving pima-indians-diabetes.csv to pima-indians-diabetes.csv\n"
          ]
        }
      ],
      "source": [
        "# 파일 선택을 통해 예제 데이터를 내 컴퓨터에서 불러옵니다.\n",
        "from google.colab import files\n",
        "uploaded = files.upload()\n",
        "my_data = 'pima-indians-diabetes.csv'"
      ]
    },
    {
      "cell_type": "code",
      "source": [
        "import pandas as pd\n",
        "import matplotlib.pyplot as plt\n",
        "import seaborn as sns"
      ],
      "metadata": {
        "id": "etBgNQUZJPOR"
      },
      "execution_count": 4,
      "outputs": []
    },
    {
      "cell_type": "code",
      "source": [
        "df = pd.read_csv(my_data,\n",
        "                 names = [\"pregnant\", \"plasma\", \"pressure\", \"thickness\", \"insulin\", \"BMI\", \"pedigree\", \"age\", \"class\"]\n",
        ")"
      ],
      "metadata": {
        "id": "ChM0znqBKFXB"
      },
      "execution_count": 5,
      "outputs": []
    },
    {
      "cell_type": "code",
      "source": [
        "# 탐색적 데이터 분석 (EDA)"
      ],
      "metadata": {
        "id": "w0bicx_FKZXS"
      },
      "execution_count": 6,
      "outputs": []
    },
    {
      "cell_type": "code",
      "source": [
        "df.info()"
      ],
      "metadata": {
        "colab": {
          "base_uri": "https://localhost:8080/"
        },
        "id": "lc2zsKavKazk",
        "outputId": "7a20d429-42e9-4134-d964-eb207105ead0"
      },
      "execution_count": 7,
      "outputs": [
        {
          "output_type": "stream",
          "name": "stdout",
          "text": [
            "<class 'pandas.core.frame.DataFrame'>\n",
            "RangeIndex: 768 entries, 0 to 767\n",
            "Data columns (total 9 columns):\n",
            " #   Column     Non-Null Count  Dtype  \n",
            "---  ------     --------------  -----  \n",
            " 0   pregnant   768 non-null    int64  \n",
            " 1   plasma     768 non-null    int64  \n",
            " 2   pressure   768 non-null    int64  \n",
            " 3   thickness  768 non-null    int64  \n",
            " 4   insulin    768 non-null    int64  \n",
            " 5   BMI        768 non-null    float64\n",
            " 6   pedigree   768 non-null    float64\n",
            " 7   age        768 non-null    int64  \n",
            " 8   class      768 non-null    int64  \n",
            "dtypes: float64(2), int64(7)\n",
            "memory usage: 54.1 KB\n"
          ]
        }
      ]
    },
    {
      "cell_type": "code",
      "source": [
        "df.head()"
      ],
      "metadata": {
        "colab": {
          "base_uri": "https://localhost:8080/",
          "height": 250
        },
        "id": "hyKpx096Kblz",
        "outputId": "49a0068a-f0b8-4c7f-9e69-37bc1b969586"
      },
      "execution_count": 8,
      "outputs": [
        {
          "output_type": "execute_result",
          "data": {
            "text/html": [
              "\n",
              "  <div id=\"df-b02981bd-46c7-49f5-a639-0b80088dcc70\">\n",
              "    <div class=\"colab-df-container\">\n",
              "      <div>\n",
              "<style scoped>\n",
              "    .dataframe tbody tr th:only-of-type {\n",
              "        vertical-align: middle;\n",
              "    }\n",
              "\n",
              "    .dataframe tbody tr th {\n",
              "        vertical-align: top;\n",
              "    }\n",
              "\n",
              "    .dataframe thead th {\n",
              "        text-align: right;\n",
              "    }\n",
              "</style>\n",
              "<table border=\"1\" class=\"dataframe\">\n",
              "  <thead>\n",
              "    <tr style=\"text-align: right;\">\n",
              "      <th></th>\n",
              "      <th>pregnant</th>\n",
              "      <th>plasma</th>\n",
              "      <th>pressure</th>\n",
              "      <th>thickness</th>\n",
              "      <th>insulin</th>\n",
              "      <th>BMI</th>\n",
              "      <th>pedigree</th>\n",
              "      <th>age</th>\n",
              "      <th>class</th>\n",
              "    </tr>\n",
              "  </thead>\n",
              "  <tbody>\n",
              "    <tr>\n",
              "      <th>0</th>\n",
              "      <td>6</td>\n",
              "      <td>148</td>\n",
              "      <td>72</td>\n",
              "      <td>35</td>\n",
              "      <td>0</td>\n",
              "      <td>33.6</td>\n",
              "      <td>0.627</td>\n",
              "      <td>50</td>\n",
              "      <td>1</td>\n",
              "    </tr>\n",
              "    <tr>\n",
              "      <th>1</th>\n",
              "      <td>1</td>\n",
              "      <td>85</td>\n",
              "      <td>66</td>\n",
              "      <td>29</td>\n",
              "      <td>0</td>\n",
              "      <td>26.6</td>\n",
              "      <td>0.351</td>\n",
              "      <td>31</td>\n",
              "      <td>0</td>\n",
              "    </tr>\n",
              "    <tr>\n",
              "      <th>2</th>\n",
              "      <td>8</td>\n",
              "      <td>183</td>\n",
              "      <td>64</td>\n",
              "      <td>0</td>\n",
              "      <td>0</td>\n",
              "      <td>23.3</td>\n",
              "      <td>0.672</td>\n",
              "      <td>32</td>\n",
              "      <td>1</td>\n",
              "    </tr>\n",
              "    <tr>\n",
              "      <th>3</th>\n",
              "      <td>1</td>\n",
              "      <td>89</td>\n",
              "      <td>66</td>\n",
              "      <td>23</td>\n",
              "      <td>94</td>\n",
              "      <td>28.1</td>\n",
              "      <td>0.167</td>\n",
              "      <td>21</td>\n",
              "      <td>0</td>\n",
              "    </tr>\n",
              "    <tr>\n",
              "      <th>4</th>\n",
              "      <td>0</td>\n",
              "      <td>137</td>\n",
              "      <td>40</td>\n",
              "      <td>35</td>\n",
              "      <td>168</td>\n",
              "      <td>43.1</td>\n",
              "      <td>2.288</td>\n",
              "      <td>33</td>\n",
              "      <td>1</td>\n",
              "    </tr>\n",
              "  </tbody>\n",
              "</table>\n",
              "</div>\n",
              "      <button class=\"colab-df-convert\" onclick=\"convertToInteractive('df-b02981bd-46c7-49f5-a639-0b80088dcc70')\"\n",
              "              title=\"Convert this dataframe to an interactive table.\"\n",
              "              style=\"display:none;\">\n",
              "        \n",
              "  <svg xmlns=\"http://www.w3.org/2000/svg\" height=\"24px\"viewBox=\"0 0 24 24\"\n",
              "       width=\"24px\">\n",
              "    <path d=\"M0 0h24v24H0V0z\" fill=\"none\"/>\n",
              "    <path d=\"M18.56 5.44l.94 2.06.94-2.06 2.06-.94-2.06-.94-.94-2.06-.94 2.06-2.06.94zm-11 1L8.5 8.5l.94-2.06 2.06-.94-2.06-.94L8.5 2.5l-.94 2.06-2.06.94zm10 10l.94 2.06.94-2.06 2.06-.94-2.06-.94-.94-2.06-.94 2.06-2.06.94z\"/><path d=\"M17.41 7.96l-1.37-1.37c-.4-.4-.92-.59-1.43-.59-.52 0-1.04.2-1.43.59L10.3 9.45l-7.72 7.72c-.78.78-.78 2.05 0 2.83L4 21.41c.39.39.9.59 1.41.59.51 0 1.02-.2 1.41-.59l7.78-7.78 2.81-2.81c.8-.78.8-2.07 0-2.86zM5.41 20L4 18.59l7.72-7.72 1.47 1.35L5.41 20z\"/>\n",
              "  </svg>\n",
              "      </button>\n",
              "      \n",
              "  <style>\n",
              "    .colab-df-container {\n",
              "      display:flex;\n",
              "      flex-wrap:wrap;\n",
              "      gap: 12px;\n",
              "    }\n",
              "\n",
              "    .colab-df-convert {\n",
              "      background-color: #E8F0FE;\n",
              "      border: none;\n",
              "      border-radius: 50%;\n",
              "      cursor: pointer;\n",
              "      display: none;\n",
              "      fill: #1967D2;\n",
              "      height: 32px;\n",
              "      padding: 0 0 0 0;\n",
              "      width: 32px;\n",
              "    }\n",
              "\n",
              "    .colab-df-convert:hover {\n",
              "      background-color: #E2EBFA;\n",
              "      box-shadow: 0px 1px 2px rgba(60, 64, 67, 0.3), 0px 1px 3px 1px rgba(60, 64, 67, 0.15);\n",
              "      fill: #174EA6;\n",
              "    }\n",
              "\n",
              "    [theme=dark] .colab-df-convert {\n",
              "      background-color: #3B4455;\n",
              "      fill: #D2E3FC;\n",
              "    }\n",
              "\n",
              "    [theme=dark] .colab-df-convert:hover {\n",
              "      background-color: #434B5C;\n",
              "      box-shadow: 0px 1px 3px 1px rgba(0, 0, 0, 0.15);\n",
              "      filter: drop-shadow(0px 1px 2px rgba(0, 0, 0, 0.3));\n",
              "      fill: #FFFFFF;\n",
              "    }\n",
              "  </style>\n",
              "\n",
              "      <script>\n",
              "        const buttonEl =\n",
              "          document.querySelector('#df-b02981bd-46c7-49f5-a639-0b80088dcc70 button.colab-df-convert');\n",
              "        buttonEl.style.display =\n",
              "          google.colab.kernel.accessAllowed ? 'block' : 'none';\n",
              "\n",
              "        async function convertToInteractive(key) {\n",
              "          const element = document.querySelector('#df-b02981bd-46c7-49f5-a639-0b80088dcc70');\n",
              "          const dataTable =\n",
              "            await google.colab.kernel.invokeFunction('convertToInteractive',\n",
              "                                                     [key], {});\n",
              "          if (!dataTable) return;\n",
              "\n",
              "          const docLinkHtml = 'Like what you see? Visit the ' +\n",
              "            '<a target=\"_blank\" href=https://colab.research.google.com/notebooks/data_table.ipynb>data table notebook</a>'\n",
              "            + ' to learn more about interactive tables.';\n",
              "          element.innerHTML = '';\n",
              "          dataTable['output_type'] = 'display_data';\n",
              "          await google.colab.output.renderOutput(dataTable, element);\n",
              "          const docLink = document.createElement('div');\n",
              "          docLink.innerHTML = docLinkHtml;\n",
              "          element.appendChild(docLink);\n",
              "        }\n",
              "      </script>\n",
              "    </div>\n",
              "  </div>\n",
              "  "
            ],
            "text/plain": [
              "   pregnant  plasma  pressure  thickness  insulin   BMI  pedigree  age  class\n",
              "0         6     148        72         35        0  33.6     0.627   50      1\n",
              "1         1      85        66         29        0  26.6     0.351   31      0\n",
              "2         8     183        64          0        0  23.3     0.672   32      1\n",
              "3         1      89        66         23       94  28.1     0.167   21      0\n",
              "4         0     137        40         35      168  43.1     2.288   33      1"
            ]
          },
          "metadata": {},
          "execution_count": 8
        }
      ]
    },
    {
      "cell_type": "code",
      "source": [
        "df.describe()"
      ],
      "metadata": {
        "colab": {
          "base_uri": "https://localhost:8080/",
          "height": 364
        },
        "id": "YoP5DwibKmXu",
        "outputId": "98c771d3-a572-45af-eb33-65c3fa42b467"
      },
      "execution_count": 9,
      "outputs": [
        {
          "output_type": "execute_result",
          "data": {
            "text/html": [
              "\n",
              "  <div id=\"df-d2044bbd-7a2c-47d9-91ec-240a01d3755e\">\n",
              "    <div class=\"colab-df-container\">\n",
              "      <div>\n",
              "<style scoped>\n",
              "    .dataframe tbody tr th:only-of-type {\n",
              "        vertical-align: middle;\n",
              "    }\n",
              "\n",
              "    .dataframe tbody tr th {\n",
              "        vertical-align: top;\n",
              "    }\n",
              "\n",
              "    .dataframe thead th {\n",
              "        text-align: right;\n",
              "    }\n",
              "</style>\n",
              "<table border=\"1\" class=\"dataframe\">\n",
              "  <thead>\n",
              "    <tr style=\"text-align: right;\">\n",
              "      <th></th>\n",
              "      <th>pregnant</th>\n",
              "      <th>plasma</th>\n",
              "      <th>pressure</th>\n",
              "      <th>thickness</th>\n",
              "      <th>insulin</th>\n",
              "      <th>BMI</th>\n",
              "      <th>pedigree</th>\n",
              "      <th>age</th>\n",
              "      <th>class</th>\n",
              "    </tr>\n",
              "  </thead>\n",
              "  <tbody>\n",
              "    <tr>\n",
              "      <th>count</th>\n",
              "      <td>768.000000</td>\n",
              "      <td>768.000000</td>\n",
              "      <td>768.000000</td>\n",
              "      <td>768.000000</td>\n",
              "      <td>768.000000</td>\n",
              "      <td>768.000000</td>\n",
              "      <td>768.000000</td>\n",
              "      <td>768.000000</td>\n",
              "      <td>768.000000</td>\n",
              "    </tr>\n",
              "    <tr>\n",
              "      <th>mean</th>\n",
              "      <td>3.845052</td>\n",
              "      <td>120.894531</td>\n",
              "      <td>69.105469</td>\n",
              "      <td>20.536458</td>\n",
              "      <td>79.799479</td>\n",
              "      <td>31.992578</td>\n",
              "      <td>0.471876</td>\n",
              "      <td>33.240885</td>\n",
              "      <td>0.348958</td>\n",
              "    </tr>\n",
              "    <tr>\n",
              "      <th>std</th>\n",
              "      <td>3.369578</td>\n",
              "      <td>31.972618</td>\n",
              "      <td>19.355807</td>\n",
              "      <td>15.952218</td>\n",
              "      <td>115.244002</td>\n",
              "      <td>7.884160</td>\n",
              "      <td>0.331329</td>\n",
              "      <td>11.760232</td>\n",
              "      <td>0.476951</td>\n",
              "    </tr>\n",
              "    <tr>\n",
              "      <th>min</th>\n",
              "      <td>0.000000</td>\n",
              "      <td>0.000000</td>\n",
              "      <td>0.000000</td>\n",
              "      <td>0.000000</td>\n",
              "      <td>0.000000</td>\n",
              "      <td>0.000000</td>\n",
              "      <td>0.078000</td>\n",
              "      <td>21.000000</td>\n",
              "      <td>0.000000</td>\n",
              "    </tr>\n",
              "    <tr>\n",
              "      <th>25%</th>\n",
              "      <td>1.000000</td>\n",
              "      <td>99.000000</td>\n",
              "      <td>62.000000</td>\n",
              "      <td>0.000000</td>\n",
              "      <td>0.000000</td>\n",
              "      <td>27.300000</td>\n",
              "      <td>0.243750</td>\n",
              "      <td>24.000000</td>\n",
              "      <td>0.000000</td>\n",
              "    </tr>\n",
              "    <tr>\n",
              "      <th>50%</th>\n",
              "      <td>3.000000</td>\n",
              "      <td>117.000000</td>\n",
              "      <td>72.000000</td>\n",
              "      <td>23.000000</td>\n",
              "      <td>30.500000</td>\n",
              "      <td>32.000000</td>\n",
              "      <td>0.372500</td>\n",
              "      <td>29.000000</td>\n",
              "      <td>0.000000</td>\n",
              "    </tr>\n",
              "    <tr>\n",
              "      <th>75%</th>\n",
              "      <td>6.000000</td>\n",
              "      <td>140.250000</td>\n",
              "      <td>80.000000</td>\n",
              "      <td>32.000000</td>\n",
              "      <td>127.250000</td>\n",
              "      <td>36.600000</td>\n",
              "      <td>0.626250</td>\n",
              "      <td>41.000000</td>\n",
              "      <td>1.000000</td>\n",
              "    </tr>\n",
              "    <tr>\n",
              "      <th>max</th>\n",
              "      <td>17.000000</td>\n",
              "      <td>199.000000</td>\n",
              "      <td>122.000000</td>\n",
              "      <td>99.000000</td>\n",
              "      <td>846.000000</td>\n",
              "      <td>67.100000</td>\n",
              "      <td>2.420000</td>\n",
              "      <td>81.000000</td>\n",
              "      <td>1.000000</td>\n",
              "    </tr>\n",
              "  </tbody>\n",
              "</table>\n",
              "</div>\n",
              "      <button class=\"colab-df-convert\" onclick=\"convertToInteractive('df-d2044bbd-7a2c-47d9-91ec-240a01d3755e')\"\n",
              "              title=\"Convert this dataframe to an interactive table.\"\n",
              "              style=\"display:none;\">\n",
              "        \n",
              "  <svg xmlns=\"http://www.w3.org/2000/svg\" height=\"24px\"viewBox=\"0 0 24 24\"\n",
              "       width=\"24px\">\n",
              "    <path d=\"M0 0h24v24H0V0z\" fill=\"none\"/>\n",
              "    <path d=\"M18.56 5.44l.94 2.06.94-2.06 2.06-.94-2.06-.94-.94-2.06-.94 2.06-2.06.94zm-11 1L8.5 8.5l.94-2.06 2.06-.94-2.06-.94L8.5 2.5l-.94 2.06-2.06.94zm10 10l.94 2.06.94-2.06 2.06-.94-2.06-.94-.94-2.06-.94 2.06-2.06.94z\"/><path d=\"M17.41 7.96l-1.37-1.37c-.4-.4-.92-.59-1.43-.59-.52 0-1.04.2-1.43.59L10.3 9.45l-7.72 7.72c-.78.78-.78 2.05 0 2.83L4 21.41c.39.39.9.59 1.41.59.51 0 1.02-.2 1.41-.59l7.78-7.78 2.81-2.81c.8-.78.8-2.07 0-2.86zM5.41 20L4 18.59l7.72-7.72 1.47 1.35L5.41 20z\"/>\n",
              "  </svg>\n",
              "      </button>\n",
              "      \n",
              "  <style>\n",
              "    .colab-df-container {\n",
              "      display:flex;\n",
              "      flex-wrap:wrap;\n",
              "      gap: 12px;\n",
              "    }\n",
              "\n",
              "    .colab-df-convert {\n",
              "      background-color: #E8F0FE;\n",
              "      border: none;\n",
              "      border-radius: 50%;\n",
              "      cursor: pointer;\n",
              "      display: none;\n",
              "      fill: #1967D2;\n",
              "      height: 32px;\n",
              "      padding: 0 0 0 0;\n",
              "      width: 32px;\n",
              "    }\n",
              "\n",
              "    .colab-df-convert:hover {\n",
              "      background-color: #E2EBFA;\n",
              "      box-shadow: 0px 1px 2px rgba(60, 64, 67, 0.3), 0px 1px 3px 1px rgba(60, 64, 67, 0.15);\n",
              "      fill: #174EA6;\n",
              "    }\n",
              "\n",
              "    [theme=dark] .colab-df-convert {\n",
              "      background-color: #3B4455;\n",
              "      fill: #D2E3FC;\n",
              "    }\n",
              "\n",
              "    [theme=dark] .colab-df-convert:hover {\n",
              "      background-color: #434B5C;\n",
              "      box-shadow: 0px 1px 3px 1px rgba(0, 0, 0, 0.15);\n",
              "      filter: drop-shadow(0px 1px 2px rgba(0, 0, 0, 0.3));\n",
              "      fill: #FFFFFF;\n",
              "    }\n",
              "  </style>\n",
              "\n",
              "      <script>\n",
              "        const buttonEl =\n",
              "          document.querySelector('#df-d2044bbd-7a2c-47d9-91ec-240a01d3755e button.colab-df-convert');\n",
              "        buttonEl.style.display =\n",
              "          google.colab.kernel.accessAllowed ? 'block' : 'none';\n",
              "\n",
              "        async function convertToInteractive(key) {\n",
              "          const element = document.querySelector('#df-d2044bbd-7a2c-47d9-91ec-240a01d3755e');\n",
              "          const dataTable =\n",
              "            await google.colab.kernel.invokeFunction('convertToInteractive',\n",
              "                                                     [key], {});\n",
              "          if (!dataTable) return;\n",
              "\n",
              "          const docLinkHtml = 'Like what you see? Visit the ' +\n",
              "            '<a target=\"_blank\" href=https://colab.research.google.com/notebooks/data_table.ipynb>data table notebook</a>'\n",
              "            + ' to learn more about interactive tables.';\n",
              "          element.innerHTML = '';\n",
              "          dataTable['output_type'] = 'display_data';\n",
              "          await google.colab.output.renderOutput(dataTable, element);\n",
              "          const docLink = document.createElement('div');\n",
              "          docLink.innerHTML = docLinkHtml;\n",
              "          element.appendChild(docLink);\n",
              "        }\n",
              "      </script>\n",
              "    </div>\n",
              "  </div>\n",
              "  "
            ],
            "text/plain": [
              "         pregnant      plasma    pressure   thickness     insulin         BMI  \\\n",
              "count  768.000000  768.000000  768.000000  768.000000  768.000000  768.000000   \n",
              "mean     3.845052  120.894531   69.105469   20.536458   79.799479   31.992578   \n",
              "std      3.369578   31.972618   19.355807   15.952218  115.244002    7.884160   \n",
              "min      0.000000    0.000000    0.000000    0.000000    0.000000    0.000000   \n",
              "25%      1.000000   99.000000   62.000000    0.000000    0.000000   27.300000   \n",
              "50%      3.000000  117.000000   72.000000   23.000000   30.500000   32.000000   \n",
              "75%      6.000000  140.250000   80.000000   32.000000  127.250000   36.600000   \n",
              "max     17.000000  199.000000  122.000000   99.000000  846.000000   67.100000   \n",
              "\n",
              "         pedigree         age       class  \n",
              "count  768.000000  768.000000  768.000000  \n",
              "mean     0.471876   33.240885    0.348958  \n",
              "std      0.331329   11.760232    0.476951  \n",
              "min      0.078000   21.000000    0.000000  \n",
              "25%      0.243750   24.000000    0.000000  \n",
              "50%      0.372500   29.000000    0.000000  \n",
              "75%      0.626250   41.000000    1.000000  \n",
              "max      2.420000   81.000000    1.000000  "
            ]
          },
          "metadata": {},
          "execution_count": 9
        }
      ]
    },
    {
      "cell_type": "code",
      "source": [
        "df.corr"
      ],
      "metadata": {
        "colab": {
          "base_uri": "https://localhost:8080/"
        },
        "id": "Onp3ym-ZLAZF",
        "outputId": "ef7799c0-b440-47d2-fea8-cda9946ade01"
      },
      "execution_count": 10,
      "outputs": [
        {
          "output_type": "execute_result",
          "data": {
            "text/plain": [
              "<bound method DataFrame.corr of      pregnant  plasma  pressure  thickness  insulin   BMI  pedigree  age  \\\n",
              "0           6     148        72         35        0  33.6     0.627   50   \n",
              "1           1      85        66         29        0  26.6     0.351   31   \n",
              "2           8     183        64          0        0  23.3     0.672   32   \n",
              "3           1      89        66         23       94  28.1     0.167   21   \n",
              "4           0     137        40         35      168  43.1     2.288   33   \n",
              "..        ...     ...       ...        ...      ...   ...       ...  ...   \n",
              "763        10     101        76         48      180  32.9     0.171   63   \n",
              "764         2     122        70         27        0  36.8     0.340   27   \n",
              "765         5     121        72         23      112  26.2     0.245   30   \n",
              "766         1     126        60          0        0  30.1     0.349   47   \n",
              "767         1      93        70         31        0  30.4     0.315   23   \n",
              "\n",
              "     class  \n",
              "0        1  \n",
              "1        0  \n",
              "2        1  \n",
              "3        0  \n",
              "4        1  \n",
              "..     ...  \n",
              "763      0  \n",
              "764      0  \n",
              "765      0  \n",
              "766      1  \n",
              "767      0  \n",
              "\n",
              "[768 rows x 9 columns]>"
            ]
          },
          "metadata": {},
          "execution_count": 10
        }
      ]
    },
    {
      "cell_type": "code",
      "source": [
        "colormap = plt.cm.gist_heat # 그래프 색상 구성 지정\n",
        "plt.figure(figsize=(12,12))\n",
        "\n",
        "sns.heatmap(df.corr(), linewidths= 0.1, vmax = 0.5, cmap = colormap, linecolor = 'white', annot = True)\n",
        "plt.show()"
      ],
      "metadata": {
        "colab": {
          "base_uri": "https://localhost:8080/",
          "height": 667
        },
        "id": "fXvafq_sKo62",
        "outputId": "f22a4b8f-8590-46ea-b7e4-22072e41ba19"
      },
      "execution_count": 19,
      "outputs": [
        {
          "output_type": "display_data",
          "data": {
            "image/png": "[encoded data removed]",
            "text/plain": [
              "<Figure size 864x864 with 2 Axes>"
            ]
          },
          "metadata": {
            "needs_background": "light"
          }
        }
      ]
    },
    {
      "cell_type": "code",
      "source": [
        "df[['plasma', 'class']]"
      ],
      "metadata": {
        "colab": {
          "base_uri": "https://localhost:8080/",
          "height": 424
        },
        "id": "Ah1QFUjFLD-Y",
        "outputId": "4701b476-8895-4647-92cd-4e90f16daff4"
      },
      "execution_count": 17,
      "outputs": [
        {
          "output_type": "execute_result",
          "data": {
            "text/html": [
              "\n",
              "  <div id=\"df-2b1b0890-4d0a-4273-bdf6-e069fb55cbac\">\n",
              "    <div class=\"colab-df-container\">\n",
              "      <div>\n",
              "<style scoped>\n",
              "    .dataframe tbody tr th:only-of-type {\n",
              "        vertical-align: middle;\n",
              "    }\n",
              "\n",
              "    .dataframe tbody tr th {\n",
              "        vertical-align: top;\n",
              "    }\n",
              "\n",
              "    .dataframe thead th {\n",
              "        text-align: right;\n",
              "    }\n",
              "</style>\n",
              "<table border=\"1\" class=\"dataframe\">\n",
              "  <thead>\n",
              "    <tr style=\"text-align: right;\">\n",
              "      <th></th>\n",
              "      <th>plasma</th>\n",
              "      <th>class</th>\n",
              "    </tr>\n",
              "  </thead>\n",
              "  <tbody>\n",
              "    <tr>\n",
              "      <th>0</th>\n",
              "      <td>148</td>\n",
              "      <td>1</td>\n",
              "    </tr>\n",
              "    <tr>\n",
              "      <th>1</th>\n",
              "      <td>85</td>\n",
              "      <td>0</td>\n",
              "    </tr>\n",
              "    <tr>\n",
              "      <th>2</th>\n",
              "      <td>183</td>\n",
              "      <td>1</td>\n",
              "    </tr>\n",
              "    <tr>\n",
              "      <th>3</th>\n",
              "      <td>89</td>\n",
              "      <td>0</td>\n",
              "    </tr>\n",
              "    <tr>\n",
              "      <th>4</th>\n",
              "      <td>137</td>\n",
              "      <td>1</td>\n",
              "    </tr>\n",
              "    <tr>\n",
              "      <th>...</th>\n",
              "      <td>...</td>\n",
              "      <td>...</td>\n",
              "    </tr>\n",
              "    <tr>\n",
              "      <th>763</th>\n",
              "      <td>101</td>\n",
              "      <td>0</td>\n",
              "    </tr>\n",
              "    <tr>\n",
              "      <th>764</th>\n",
              "      <td>122</td>\n",
              "      <td>0</td>\n",
              "    </tr>\n",
              "    <tr>\n",
              "      <th>765</th>\n",
              "      <td>121</td>\n",
              "      <td>0</td>\n",
              "    </tr>\n",
              "    <tr>\n",
              "      <th>766</th>\n",
              "      <td>126</td>\n",
              "      <td>1</td>\n",
              "    </tr>\n",
              "    <tr>\n",
              "      <th>767</th>\n",
              "      <td>93</td>\n",
              "      <td>0</td>\n",
              "    </tr>\n",
              "  </tbody>\n",
              "</table>\n",
              "<p>768 rows × 2 columns</p>\n",
              "</div>\n",
              "      <button class=\"colab-df-convert\" onclick=\"convertToInteractive('df-2b1b0890-4d0a-4273-bdf6-e069fb55cbac')\"\n",
              "              title=\"Convert this dataframe to an interactive table.\"\n",
              "              style=\"display:none;\">\n",
              "        \n",
              "  <svg xmlns=\"http://www.w3.org/2000/svg\" height=\"24px\"viewBox=\"0 0 24 24\"\n",
              "       width=\"24px\">\n",
              "    <path d=\"M0 0h24v24H0V0z\" fill=\"none\"/>\n",
              "    <path d=\"M18.56 5.44l.94 2.06.94-2.06 2.06-.94-2.06-.94-.94-2.06-.94 2.06-2.06.94zm-11 1L8.5 8.5l.94-2.06 2.06-.94-2.06-.94L8.5 2.5l-.94 2.06-2.06.94zm10 10l.94 2.06.94-2.06 2.06-.94-2.06-.94-.94-2.06-.94 2.06-2.06.94z\"/><path d=\"M17.41 7.96l-1.37-1.37c-.4-.4-.92-.59-1.43-.59-.52 0-1.04.2-1.43.59L10.3 9.45l-7.72 7.72c-.78.78-.78 2.05 0 2.83L4 21.41c.39.39.9.59 1.41.59.51 0 1.02-.2 1.41-.59l7.78-7.78 2.81-2.81c.8-.78.8-2.07 0-2.86zM5.41 20L4 18.59l7.72-7.72 1.47 1.35L5.41 20z\"/>\n",
              "  </svg>\n",
              "      </button>\n",
              "      \n",
              "  <style>\n",
              "    .colab-df-container {\n",
              "      display:flex;\n",
              "      flex-wrap:wrap;\n",
              "      gap: 12px;\n",
              "    }\n",
              "\n",
              "    .colab-df-convert {\n",
              "      background-color: #E8F0FE;\n",
              "      border: none;\n",
              "      border-radius: 50%;\n",
              "      cursor: pointer;\n",
              "      display: none;\n",
              "      fill: #1967D2;\n",
              "      height: 32px;\n",
              "      padding: 0 0 0 0;\n",
              "      width: 32px;\n",
              "    }\n",
              "\n",
              "    .colab-df-convert:hover {\n",
              "      background-color: #E2EBFA;\n",
              "      box-shadow: 0px 1px 2px rgba(60, 64, 67, 0.3), 0px 1px 3px 1px rgba(60, 64, 67, 0.15);\n",
              "      fill: #174EA6;\n",
              "    }\n",
              "\n",
              "    [theme=dark] .colab-df-convert {\n",
              "      background-color: #3B4455;\n",
              "      fill: #D2E3FC;\n",
              "    }\n",
              "\n",
              "    [theme=dark] .colab-df-convert:hover {\n",
              "      background-color: #434B5C;\n",
              "      box-shadow: 0px 1px 3px 1px rgba(0, 0, 0, 0.15);\n",
              "      filter: drop-shadow(0px 1px 2px rgba(0, 0, 0, 0.3));\n",
              "      fill: #FFFFFF;\n",
              "    }\n",
              "  </style>\n",
              "\n",
              "      <script>\n",
              "        const buttonEl =\n",
              "          document.querySelector('#df-2b1b0890-4d0a-4273-bdf6-e069fb55cbac button.colab-df-convert');\n",
              "        buttonEl.style.display =\n",
              "          google.colab.kernel.accessAllowed ? 'block' : 'none';\n",
              "\n",
              "        async function convertToInteractive(key) {\n",
              "          const element = document.querySelector('#df-2b1b0890-4d0a-4273-bdf6-e069fb55cbac');\n",
              "          const dataTable =\n",
              "            await google.colab.kernel.invokeFunction('convertToInteractive',\n",
              "                                                     [key], {});\n",
              "          if (!dataTable) return;\n",
              "\n",
              "          const docLinkHtml = 'Like what you see? Visit the ' +\n",
              "            '<a target=\"_blank\" href=https://colab.research.google.com/notebooks/data_table.ipynb>data table notebook</a>'\n",
              "            + ' to learn more about interactive tables.';\n",
              "          element.innerHTML = '';\n",
              "          dataTable['output_type'] = 'display_data';\n",
              "          await google.colab.output.renderOutput(dataTable, element);\n",
              "          const docLink = document.createElement('div');\n",
              "          docLink.innerHTML = docLinkHtml;\n",
              "          element.appendChild(docLink);\n",
              "        }\n",
              "      </script>\n",
              "    </div>\n",
              "  </div>\n",
              "  "
            ],
            "text/plain": [
              "     plasma  class\n",
              "0       148      1\n",
              "1        85      0\n",
              "2       183      1\n",
              "3        89      0\n",
              "4       137      1\n",
              "..      ...    ...\n",
              "763     101      0\n",
              "764     122      0\n",
              "765     121      0\n",
              "766     126      1\n",
              "767      93      0\n",
              "\n",
              "[768 rows x 2 columns]"
            ]
          },
          "metadata": {},
          "execution_count": 17
        }
      ]
    },
    {
      "cell_type": "code",
      "source": [
        "df['plasma'].mean()  # plasma : 공복혈당농도"
      ],
      "metadata": {
        "colab": {
          "base_uri": "https://localhost:8080/"
        },
        "id": "dx99FpeUL_vp",
        "outputId": "0c1713f9-34f7-4310-be74-77eb04dd7e50"
      },
      "execution_count": 20,
      "outputs": [
        {
          "output_type": "execute_result",
          "data": {
            "text/plain": [
              "120.89453125"
            ]
          },
          "metadata": {},
          "execution_count": 20
        }
      ]
    },
    {
      "cell_type": "code",
      "source": [
        "grid = sns.FacetGrid(df, col = 'class')\n",
        "grid.map(plt.hist, 'plasma', bins = 10)"
      ],
      "metadata": {
        "colab": {
          "base_uri": "https://localhost:8080/",
          "height": 243
        },
        "id": "WrcAlSjrMYGZ",
        "outputId": "4b58eb63-bb42-445a-a07b-c57ac9a69ca8"
      },
      "execution_count": 22,
      "outputs": [
        {
          "output_type": "execute_result",
          "data": {
            "text/plain": [
              "<seaborn.axisgrid.FacetGrid at 0x7f8c4168b750>"
            ]
          },
          "metadata": {},
          "execution_count": 22
        },
        {
          "output_type": "display_data",
          "data": {
            "image/png": "[encoded data removed]",
            "text/plain": [
              "<Figure size 432x216 with 2 Axes>"
            ]
          },
          "metadata": {
            "needs_background": "light"
          }
        }
      ]
    },
    {
      "cell_type": "code",
      "source": [
        "from tensorflow.keras.models import Sequential\n",
        "from tensorflow.keras.layers import Dense\n",
        "import numpy as np\n",
        "import pandas as pd\n",
        "import tensorflow as tf"
      ],
      "metadata": {
        "id": "1M7uN2NYMtQT"
      },
      "execution_count": 23,
      "outputs": []
    },
    {
      "cell_type": "code",
      "source": [
        "# 실행할 때마다 같은 결과 출력하기 위해 설정해 주기\n",
        "np.random.seed(42) # 넘파이의 random 함수의 테이블의 값 지정\n",
        "tf.random.set_seed(42) # set_seed 로 지정된 난수 값 사용"
      ],
      "metadata": {
        "id": "2JlNnkzLNgx0"
      },
      "execution_count": 25,
      "outputs": []
    },
    {
      "cell_type": "code",
      "source": [
        "np.loadtxt(my_data, delimiter = ',')"
      ],
      "metadata": {
        "colab": {
          "base_uri": "https://localhost:8080/"
        },
        "id": "i10rUp4DNjyE",
        "outputId": "474da61f-9b82-4bfc-a8c0-49502f127c22"
      },
      "execution_count": 26,
      "outputs": [
        {
          "output_type": "execute_result",
          "data": {
            "text/plain": [
              "array([[  6.   , 148.   ,  72.   , ...,   0.627,  50.   ,   1.   ],\n",
              "       [  1.   ,  85.   ,  66.   , ...,   0.351,  31.   ,   0.   ],\n",
              "       [  8.   , 183.   ,  64.   , ...,   0.672,  32.   ,   1.   ],\n",
              "       ...,\n",
              "       [  5.   , 121.   ,  72.   , ...,   0.245,  30.   ,   0.   ],\n",
              "       [  1.   , 126.   ,  60.   , ...,   0.349,  47.   ,   1.   ],\n",
              "       [  1.   ,  93.   ,  70.   , ...,   0.315,  23.   ,   0.   ]])"
            ]
          },
          "metadata": {},
          "execution_count": 26
        }
      ]
    },
    {
      "cell_type": "code",
      "source": [
        "dataset = np.loadtxt(my_data, delimiter = ',')\n",
        "x = dataset[:, :-1]\n",
        "y = dataset[:, -1]\n"
      ],
      "metadata": {
        "id": "a9O1HSsNN6Sn"
      },
      "execution_count": 27,
      "outputs": []
    },
    {
      "cell_type": "code",
      "source": [
        "x, y"
      ],
      "metadata": {
        "colab": {
          "base_uri": "https://localhost:8080/"
        },
        "id": "MPIRY-JBOHlI",
        "outputId": "fdfb5b4f-2d57-4bd2-87a1-8e4d78b6b0e9"
      },
      "execution_count": 28,
      "outputs": [
        {
          "output_type": "execute_result",
          "data": {
            "text/plain": [
              "(array([[  6.   , 148.   ,  72.   , ...,  33.6  ,   0.627,  50.   ],\n",
              "        [  1.   ,  85.   ,  66.   , ...,  26.6  ,   0.351,  31.   ],\n",
              "        [  8.   , 183.   ,  64.   , ...,  23.3  ,   0.672,  32.   ],\n",
              "        ...,\n",
              "        [  5.   , 121.   ,  72.   , ...,  26.2  ,   0.245,  30.   ],\n",
              "        [  1.   , 126.   ,  60.   , ...,  30.1  ,   0.349,  47.   ],\n",
              "        [  1.   ,  93.   ,  70.   , ...,  30.4  ,   0.315,  23.   ]]),\n",
              " array([1., 0., 1., 0., 1., 0., 1., 0., 1., 1., 0., 1., 0., 1., 1., 1., 1.,\n",
              "        1., 0., 1., 0., 0., 1., 1., 1., 1., 1., 0., 0., 0., 0., 1., 0., 0.,\n",
              "        0., 0., 0., 1., 1., 1., 0., 0., 0., 1., 0., 1., 0., 0., 1., 0., 0.,\n",
              "        0., 0., 1., 0., 0., 1., 0., 0., 0., 0., 1., 0., 0., 1., 0., 1., 0.,\n",
              "        0., 0., 1., 0., 1., 0., 0., 0., 0., 0., 1., 0., 0., 0., 0., 0., 1.,\n",
              "        0., 0., 0., 1., 0., 0., 0., 0., 1., 0., 0., 0., 0., 0., 1., 1., 0.,\n",
              "        0., 0., 0., 0., 0., 0., 0., 1., 1., 1., 0., 0., 1., 1., 1., 0., 0.,\n",
              "        0., 1., 0., 0., 0., 1., 1., 0., 0., 1., 1., 1., 1., 1., 0., 0., 0.,\n",
              "        0., 0., 0., 0., 0., 0., 0., 1., 0., 0., 0., 0., 0., 0., 0., 0., 1.,\n",
              "        0., 1., 1., 0., 0., 0., 1., 0., 0., 0., 0., 1., 1., 0., 0., 0., 0.,\n",
              "        1., 1., 0., 0., 0., 1., 0., 1., 0., 1., 0., 0., 0., 0., 0., 1., 1.,\n",
              "        1., 1., 1., 0., 0., 1., 1., 0., 1., 0., 1., 1., 1., 0., 0., 0., 0.,\n",
              "        0., 0., 1., 1., 0., 1., 0., 0., 0., 1., 1., 1., 1., 0., 1., 1., 1.,\n",
              "        1., 0., 0., 0., 0., 0., 1., 0., 0., 1., 1., 0., 0., 0., 1., 1., 1.,\n",
              "        1., 0., 0., 0., 1., 1., 0., 1., 0., 0., 0., 0., 0., 0., 0., 0., 1.,\n",
              "        1., 0., 0., 0., 1., 0., 1., 0., 0., 1., 0., 1., 0., 0., 1., 1., 0.,\n",
              "        0., 0., 0., 0., 1., 0., 0., 0., 1., 0., 0., 1., 1., 0., 0., 1., 0.,\n",
              "        0., 0., 1., 1., 1., 0., 0., 1., 0., 1., 0., 1., 1., 0., 1., 0., 0.,\n",
              "        1., 0., 1., 1., 0., 0., 1., 0., 1., 0., 0., 1., 0., 1., 0., 1., 1.,\n",
              "        1., 0., 0., 1., 0., 1., 0., 0., 0., 1., 0., 0., 0., 0., 1., 1., 1.,\n",
              "        0., 0., 0., 0., 0., 0., 0., 0., 0., 1., 0., 0., 0., 0., 0., 1., 1.,\n",
              "        1., 0., 1., 1., 0., 0., 1., 0., 0., 1., 0., 0., 1., 1., 0., 0., 0.,\n",
              "        0., 1., 0., 0., 1., 0., 0., 0., 0., 0., 0., 0., 1., 1., 1., 0., 0.,\n",
              "        1., 0., 0., 1., 0., 0., 1., 0., 1., 1., 0., 1., 0., 1., 0., 1., 0.,\n",
              "        1., 1., 0., 0., 0., 0., 1., 1., 0., 1., 0., 1., 0., 0., 0., 0., 1.,\n",
              "        1., 0., 1., 0., 1., 0., 0., 0., 0., 0., 1., 0., 0., 0., 0., 1., 0.,\n",
              "        0., 1., 1., 1., 0., 0., 1., 0., 0., 1., 0., 0., 0., 1., 0., 0., 1.,\n",
              "        0., 0., 0., 0., 0., 0., 0., 0., 0., 1., 0., 0., 0., 0., 0., 0., 0.,\n",
              "        1., 0., 0., 0., 1., 0., 0., 0., 1., 1., 0., 0., 0., 0., 0., 0., 0.,\n",
              "        1., 0., 0., 0., 0., 1., 0., 0., 0., 1., 0., 0., 0., 1., 0., 0., 0.,\n",
              "        1., 0., 0., 0., 0., 1., 1., 0., 0., 0., 0., 0., 0., 1., 0., 0., 0.,\n",
              "        0., 0., 0., 0., 0., 0., 0., 0., 1., 0., 0., 0., 1., 1., 1., 1., 0.,\n",
              "        0., 1., 1., 0., 0., 0., 0., 0., 0., 0., 0., 0., 0., 0., 0., 0., 1.,\n",
              "        1., 0., 0., 0., 0., 0., 0., 0., 1., 0., 0., 0., 0., 0., 0., 0., 1.,\n",
              "        0., 1., 1., 0., 0., 0., 1., 0., 1., 0., 1., 0., 1., 0., 1., 0., 0.,\n",
              "        1., 0., 0., 1., 0., 0., 0., 0., 1., 1., 0., 1., 0., 0., 0., 0., 1.,\n",
              "        1., 0., 1., 0., 0., 0., 1., 1., 0., 0., 0., 0., 0., 0., 0., 0., 0.,\n",
              "        0., 1., 0., 0., 0., 0., 1., 0., 0., 1., 0., 0., 0., 1., 0., 0., 0.,\n",
              "        1., 1., 1., 0., 0., 0., 0., 0., 0., 1., 0., 0., 0., 1., 0., 1., 1.,\n",
              "        1., 1., 0., 1., 1., 0., 0., 0., 0., 0., 0., 0., 1., 1., 0., 1., 0.,\n",
              "        0., 1., 0., 1., 0., 0., 0., 0., 0., 1., 0., 1., 0., 1., 0., 1., 1.,\n",
              "        0., 0., 0., 0., 1., 1., 0., 0., 0., 1., 0., 1., 1., 0., 0., 1., 0.,\n",
              "        0., 1., 1., 0., 0., 1., 0., 0., 1., 0., 0., 0., 0., 0., 0., 0., 1.,\n",
              "        1., 1., 0., 0., 0., 0., 0., 0., 1., 1., 0., 0., 1., 0., 0., 1., 0.,\n",
              "        1., 1., 1., 0., 0., 1., 1., 1., 0., 1., 0., 1., 0., 1., 0., 0., 0.,\n",
              "        0., 1., 0.]))"
            ]
          },
          "metadata": {},
          "execution_count": 28
        }
      ]
    },
    {
      "cell_type": "code",
      "source": [
        "# 모델 설정 (은닉층 2개, 출력층 1개)\n",
        "\n",
        "model = Sequential()\n",
        "model.add(Dense(12, input_dim = 8, activation = 'relu')) # 8개 입력값 설정, 활성화함수 'relu' 사용\n",
        "model.add(Dense(8, activation='relu'))\n",
        "model.add(Dense(1, activation='sigmoid'))  # 이진 분류 (1,0) >> 활성화 함수 sigmoid 사용"
      ],
      "metadata": {
        "id": "5pnbpvmuOJmG"
      },
      "execution_count": 29,
      "outputs": []
    },
    {
      "cell_type": "code",
      "source": [
        "# 모델 컴파일 (환경설정)\n",
        "\n",
        "model.compile(loss = 'binary_crossentropy',  # 오차 함수 : 이진 교차 엔트로피\n",
        "              optimizer = 'adam',            # 최적화함수 : adam\n",
        "              metrics = ['accuracy'])        # 측정 : 정확도"
      ],
      "metadata": {
        "id": "N-7OxgfNRinA"
      },
      "execution_count": 31,
      "outputs": []
    },
    {
      "cell_type": "code",
      "source": [
        "# 모델 실행\n",
        "\n",
        "model.fit(x, y, epochs = 200, batch_size=10)\n",
        "# 실행 : fit, epochs : 반복횟수, batch_size : 배치단위 10개 묶어서 실행함"
      ],
      "metadata": {
        "colab": {
          "base_uri": "https://localhost:8080/"
        },
        "id": "G5LVhkKwRz54",
        "outputId": "0479d0e2-3ac4-43f4-e91a-e6394a842560"
      },
      "execution_count": 32,
      "outputs": [
        {
          "output_type": "stream",
          "name": "stdout",
          "text": [
            "Epoch 1/200\n",
            "77/77 [==============================] - 1s 3ms/step - loss: 2.6924 - accuracy: 0.4896\n",
            "Epoch 2/200\n",
            "77/77 [==============================] - 0s 2ms/step - loss: 1.2286 - accuracy: 0.5703\n",
            "Epoch 3/200\n",
            "77/77 [==============================] - 0s 2ms/step - loss: 1.1255 - accuracy: 0.6211\n",
            "Epoch 4/200\n",
            "77/77 [==============================] - 0s 2ms/step - loss: 1.0235 - accuracy: 0.5990\n",
            "Epoch 5/200\n",
            "77/77 [==============================] - 0s 2ms/step - loss: 0.9394 - accuracy: 0.6120\n",
            "Epoch 6/200\n",
            "77/77 [==============================] - 0s 2ms/step - loss: 0.9052 - accuracy: 0.6224\n",
            "Epoch 7/200\n",
            "77/77 [==============================] - 0s 1ms/step - loss: 0.8626 - accuracy: 0.6380\n",
            "Epoch 8/200\n",
            "77/77 [==============================] - 0s 2ms/step - loss: 0.8055 - accuracy: 0.6276\n",
            "Epoch 9/200\n",
            "77/77 [==============================] - 0s 2ms/step - loss: 0.8058 - accuracy: 0.6094\n",
            "Epoch 10/200\n",
            "77/77 [==============================] - 0s 2ms/step - loss: 0.7795 - accuracy: 0.6406\n",
            "Epoch 11/200\n",
            "77/77 [==============================] - 0s 2ms/step - loss: 0.7509 - accuracy: 0.6497\n",
            "Epoch 12/200\n",
            "77/77 [==============================] - 0s 2ms/step - loss: 0.7026 - accuracy: 0.6615\n",
            "Epoch 13/200\n",
            "77/77 [==============================] - 0s 2ms/step - loss: 0.7267 - accuracy: 0.6497\n",
            "Epoch 14/200\n",
            "77/77 [==============================] - 0s 2ms/step - loss: 0.6892 - accuracy: 0.6823\n",
            "Epoch 15/200\n",
            "77/77 [==============================] - 0s 2ms/step - loss: 0.6686 - accuracy: 0.6771\n",
            "Epoch 16/200\n",
            "77/77 [==============================] - 0s 2ms/step - loss: 0.6862 - accuracy: 0.6745\n",
            "Epoch 17/200\n",
            "77/77 [==============================] - 0s 2ms/step - loss: 0.6593 - accuracy: 0.6680\n",
            "Epoch 18/200\n",
            "77/77 [==============================] - 0s 2ms/step - loss: 0.6520 - accuracy: 0.6797\n",
            "Epoch 19/200\n",
            "77/77 [==============================] - 0s 2ms/step - loss: 0.6428 - accuracy: 0.6719\n",
            "Epoch 20/200\n",
            "77/77 [==============================] - 0s 2ms/step - loss: 0.6565 - accuracy: 0.6888\n",
            "Epoch 21/200\n",
            "77/77 [==============================] - 0s 2ms/step - loss: 0.6374 - accuracy: 0.6849\n",
            "Epoch 22/200\n",
            "77/77 [==============================] - 0s 2ms/step - loss: 0.6260 - accuracy: 0.7018\n",
            "Epoch 23/200\n",
            "77/77 [==============================] - 0s 2ms/step - loss: 0.6334 - accuracy: 0.6927\n",
            "Epoch 24/200\n",
            "77/77 [==============================] - 0s 2ms/step - loss: 0.6200 - accuracy: 0.7031\n",
            "Epoch 25/200\n",
            "77/77 [==============================] - 0s 2ms/step - loss: 0.6047 - accuracy: 0.7096\n",
            "Epoch 26/200\n",
            "77/77 [==============================] - 0s 2ms/step - loss: 0.6141 - accuracy: 0.7148\n",
            "Epoch 27/200\n",
            "77/77 [==============================] - 0s 2ms/step - loss: 0.6377 - accuracy: 0.6992\n",
            "Epoch 28/200\n",
            "77/77 [==============================] - 0s 2ms/step - loss: 0.6188 - accuracy: 0.6862\n",
            "Epoch 29/200\n",
            "77/77 [==============================] - 0s 2ms/step - loss: 0.5986 - accuracy: 0.7266\n",
            "Epoch 30/200\n",
            "77/77 [==============================] - 0s 2ms/step - loss: 0.5990 - accuracy: 0.6992\n",
            "Epoch 31/200\n",
            "77/77 [==============================] - 0s 2ms/step - loss: 0.5917 - accuracy: 0.7227\n",
            "Epoch 32/200\n",
            "77/77 [==============================] - 0s 2ms/step - loss: 0.6062 - accuracy: 0.7109\n",
            "Epoch 33/200\n",
            "77/77 [==============================] - 0s 2ms/step - loss: 0.5771 - accuracy: 0.7161\n",
            "Epoch 34/200\n",
            "77/77 [==============================] - 0s 2ms/step - loss: 0.5863 - accuracy: 0.7161\n",
            "Epoch 35/200\n",
            "77/77 [==============================] - 0s 2ms/step - loss: 0.5783 - accuracy: 0.7227\n",
            "Epoch 36/200\n",
            "77/77 [==============================] - 0s 3ms/step - loss: 0.5674 - accuracy: 0.7188\n",
            "Epoch 37/200\n",
            "77/77 [==============================] - 0s 2ms/step - loss: 0.5584 - accuracy: 0.7448\n",
            "Epoch 38/200\n",
            "77/77 [==============================] - 0s 2ms/step - loss: 0.5909 - accuracy: 0.7135\n",
            "Epoch 39/200\n",
            "77/77 [==============================] - 0s 3ms/step - loss: 0.5625 - accuracy: 0.7266\n",
            "Epoch 40/200\n",
            "77/77 [==============================] - 0s 2ms/step - loss: 0.5455 - accuracy: 0.7331\n",
            "Epoch 41/200\n",
            "77/77 [==============================] - 0s 2ms/step - loss: 0.5470 - accuracy: 0.7357\n",
            "Epoch 42/200\n",
            "77/77 [==============================] - 0s 2ms/step - loss: 0.5436 - accuracy: 0.7292\n",
            "Epoch 43/200\n",
            "77/77 [==============================] - 0s 2ms/step - loss: 0.5359 - accuracy: 0.7474\n",
            "Epoch 44/200\n",
            "77/77 [==============================] - 0s 2ms/step - loss: 0.5369 - accuracy: 0.7383\n",
            "Epoch 45/200\n",
            "77/77 [==============================] - 0s 2ms/step - loss: 0.5567 - accuracy: 0.7174\n",
            "Epoch 46/200\n",
            "77/77 [==============================] - 0s 2ms/step - loss: 0.5363 - accuracy: 0.7474\n",
            "Epoch 47/200\n",
            "77/77 [==============================] - 0s 2ms/step - loss: 0.5353 - accuracy: 0.7461\n",
            "Epoch 48/200\n",
            "77/77 [==============================] - 0s 3ms/step - loss: 0.5410 - accuracy: 0.7396\n",
            "Epoch 49/200\n",
            "77/77 [==============================] - 0s 2ms/step - loss: 0.5312 - accuracy: 0.7526\n",
            "Epoch 50/200\n",
            "77/77 [==============================] - 0s 2ms/step - loss: 0.5428 - accuracy: 0.7383\n",
            "Epoch 51/200\n",
            "77/77 [==============================] - 0s 2ms/step - loss: 0.5329 - accuracy: 0.7422\n",
            "Epoch 52/200\n",
            "77/77 [==============================] - 0s 3ms/step - loss: 0.5689 - accuracy: 0.7292\n",
            "Epoch 53/200\n",
            "77/77 [==============================] - 0s 2ms/step - loss: 0.5396 - accuracy: 0.7357\n",
            "Epoch 54/200\n",
            "77/77 [==============================] - 0s 2ms/step - loss: 0.5500 - accuracy: 0.7396\n",
            "Epoch 55/200\n",
            "77/77 [==============================] - 0s 1ms/step - loss: 0.5287 - accuracy: 0.7370\n",
            "Epoch 56/200\n",
            "77/77 [==============================] - 0s 2ms/step - loss: 0.5563 - accuracy: 0.7161\n",
            "Epoch 57/200\n",
            "77/77 [==============================] - 0s 2ms/step - loss: 0.5245 - accuracy: 0.7539\n",
            "Epoch 58/200\n",
            "77/77 [==============================] - 0s 2ms/step - loss: 0.5229 - accuracy: 0.7513\n",
            "Epoch 59/200\n",
            "77/77 [==============================] - 0s 3ms/step - loss: 0.5160 - accuracy: 0.7526\n",
            "Epoch 60/200\n",
            "77/77 [==============================] - 0s 3ms/step - loss: 0.5142 - accuracy: 0.7578\n",
            "Epoch 61/200\n",
            "77/77 [==============================] - 0s 3ms/step - loss: 0.5652 - accuracy: 0.7357\n",
            "Epoch 62/200\n",
            "77/77 [==============================] - 0s 2ms/step - loss: 0.5166 - accuracy: 0.7500\n",
            "Epoch 63/200\n",
            "77/77 [==============================] - 0s 2ms/step - loss: 0.5224 - accuracy: 0.7487\n",
            "Epoch 64/200\n",
            "77/77 [==============================] - 0s 2ms/step - loss: 0.5220 - accuracy: 0.7539\n",
            "Epoch 65/200\n",
            "77/77 [==============================] - 0s 2ms/step - loss: 0.5488 - accuracy: 0.7279\n",
            "Epoch 66/200\n",
            "77/77 [==============================] - 0s 2ms/step - loss: 0.5091 - accuracy: 0.7565\n",
            "Epoch 67/200\n",
            "77/77 [==============================] - 0s 2ms/step - loss: 0.5254 - accuracy: 0.7461\n",
            "Epoch 68/200\n",
            "77/77 [==============================] - 0s 2ms/step - loss: 0.5098 - accuracy: 0.7604\n",
            "Epoch 69/200\n",
            "77/77 [==============================] - 0s 2ms/step - loss: 0.5377 - accuracy: 0.7500\n",
            "Epoch 70/200\n",
            "77/77 [==============================] - 0s 2ms/step - loss: 0.5010 - accuracy: 0.7526\n",
            "Epoch 71/200\n",
            "77/77 [==============================] - 0s 2ms/step - loss: 0.5082 - accuracy: 0.7526\n",
            "Epoch 72/200\n",
            "77/77 [==============================] - 0s 2ms/step - loss: 0.5187 - accuracy: 0.7513\n",
            "Epoch 73/200\n",
            "77/77 [==============================] - 0s 2ms/step - loss: 0.5337 - accuracy: 0.7422\n",
            "Epoch 74/200\n",
            "77/77 [==============================] - 0s 2ms/step - loss: 0.5033 - accuracy: 0.7565\n",
            "Epoch 75/200\n",
            "77/77 [==============================] - 0s 2ms/step - loss: 0.5087 - accuracy: 0.7513\n",
            "Epoch 76/200\n",
            "77/77 [==============================] - 0s 1ms/step - loss: 0.4962 - accuracy: 0.7539\n",
            "Epoch 77/200\n",
            "77/77 [==============================] - 0s 4ms/step - loss: 0.4961 - accuracy: 0.7591\n",
            "Epoch 78/200\n",
            "77/77 [==============================] - 0s 4ms/step - loss: 0.4938 - accuracy: 0.7448\n",
            "Epoch 79/200\n",
            "77/77 [==============================] - 0s 3ms/step - loss: 0.5079 - accuracy: 0.7565\n",
            "Epoch 80/200\n",
            "77/77 [==============================] - 0s 2ms/step - loss: 0.5026 - accuracy: 0.7643\n",
            "Epoch 81/200\n",
            "77/77 [==============================] - 0s 2ms/step - loss: 0.5003 - accuracy: 0.7630\n",
            "Epoch 82/200\n",
            "77/77 [==============================] - 0s 2ms/step - loss: 0.4828 - accuracy: 0.7682\n",
            "Epoch 83/200\n",
            "77/77 [==============================] - 0s 2ms/step - loss: 0.5068 - accuracy: 0.7747\n",
            "Epoch 84/200\n",
            "77/77 [==============================] - 0s 2ms/step - loss: 0.5167 - accuracy: 0.7396\n",
            "Epoch 85/200\n",
            "77/77 [==============================] - 0s 2ms/step - loss: 0.5029 - accuracy: 0.7539\n",
            "Epoch 86/200\n",
            "77/77 [==============================] - 0s 1ms/step - loss: 0.5208 - accuracy: 0.7539\n",
            "Epoch 87/200\n",
            "77/77 [==============================] - 0s 2ms/step - loss: 0.5129 - accuracy: 0.7383\n",
            "Epoch 88/200\n",
            "77/77 [==============================] - 0s 2ms/step - loss: 0.4918 - accuracy: 0.7695\n",
            "Epoch 89/200\n",
            "77/77 [==============================] - 0s 2ms/step - loss: 0.5066 - accuracy: 0.7539\n",
            "Epoch 90/200\n",
            "77/77 [==============================] - 0s 2ms/step - loss: 0.5037 - accuracy: 0.7669\n",
            "Epoch 91/200\n",
            "77/77 [==============================] - 0s 2ms/step - loss: 0.4783 - accuracy: 0.7643\n",
            "Epoch 92/200\n",
            "77/77 [==============================] - 0s 2ms/step - loss: 0.5081 - accuracy: 0.7500\n",
            "Epoch 93/200\n",
            "77/77 [==============================] - 0s 2ms/step - loss: 0.5047 - accuracy: 0.7435\n",
            "Epoch 94/200\n",
            "77/77 [==============================] - 0s 2ms/step - loss: 0.4901 - accuracy: 0.7552\n",
            "Epoch 95/200\n",
            "77/77 [==============================] - 0s 2ms/step - loss: 0.4816 - accuracy: 0.7630\n",
            "Epoch 96/200\n",
            "77/77 [==============================] - 0s 2ms/step - loss: 0.4860 - accuracy: 0.7682\n",
            "Epoch 97/200\n",
            "77/77 [==============================] - 0s 2ms/step - loss: 0.4876 - accuracy: 0.7604\n",
            "Epoch 98/200\n",
            "77/77 [==============================] - 0s 2ms/step - loss: 0.4915 - accuracy: 0.7682\n",
            "Epoch 99/200\n",
            "77/77 [==============================] - 0s 2ms/step - loss: 0.5054 - accuracy: 0.7396\n",
            "Epoch 100/200\n",
            "77/77 [==============================] - 0s 2ms/step - loss: 0.5064 - accuracy: 0.7656\n",
            "Epoch 101/200\n",
            "77/77 [==============================] - 0s 2ms/step - loss: 0.4900 - accuracy: 0.7604\n",
            "Epoch 102/200\n",
            "77/77 [==============================] - 0s 1ms/step - loss: 0.4959 - accuracy: 0.7669\n",
            "Epoch 103/200\n",
            "77/77 [==============================] - 0s 2ms/step - loss: 0.4776 - accuracy: 0.7669\n",
            "Epoch 104/200\n",
            "77/77 [==============================] - 0s 2ms/step - loss: 0.4892 - accuracy: 0.7669\n",
            "Epoch 105/200\n",
            "77/77 [==============================] - 0s 2ms/step - loss: 0.4877 - accuracy: 0.7630\n",
            "Epoch 106/200\n",
            "77/77 [==============================] - 0s 2ms/step - loss: 0.4867 - accuracy: 0.7682\n",
            "Epoch 107/200\n",
            "77/77 [==============================] - 0s 2ms/step - loss: 0.4861 - accuracy: 0.7760\n",
            "Epoch 108/200\n",
            "77/77 [==============================] - 0s 2ms/step - loss: 0.5192 - accuracy: 0.7578\n",
            "Epoch 109/200\n",
            "77/77 [==============================] - 0s 2ms/step - loss: 0.4945 - accuracy: 0.7734\n",
            "Epoch 110/200\n",
            "77/77 [==============================] - 0s 2ms/step - loss: 0.5095 - accuracy: 0.7708\n",
            "Epoch 111/200\n",
            "77/77 [==============================] - 0s 2ms/step - loss: 0.4784 - accuracy: 0.7734\n",
            "Epoch 112/200\n",
            "77/77 [==============================] - 0s 2ms/step - loss: 0.4709 - accuracy: 0.7721\n",
            "Epoch 113/200\n",
            "77/77 [==============================] - 0s 2ms/step - loss: 0.4833 - accuracy: 0.7734\n",
            "Epoch 114/200\n",
            "77/77 [==============================] - 0s 2ms/step - loss: 0.5074 - accuracy: 0.7448\n",
            "Epoch 115/200\n",
            "77/77 [==============================] - 0s 2ms/step - loss: 0.5879 - accuracy: 0.7526\n",
            "Epoch 116/200\n",
            "77/77 [==============================] - 0s 2ms/step - loss: 0.4840 - accuracy: 0.7747\n",
            "Epoch 117/200\n",
            "77/77 [==============================] - 0s 3ms/step - loss: 0.4716 - accuracy: 0.7695\n",
            "Epoch 118/200\n",
            "77/77 [==============================] - 0s 4ms/step - loss: 0.4716 - accuracy: 0.7721\n",
            "Epoch 119/200\n",
            "77/77 [==============================] - 0s 2ms/step - loss: 0.4848 - accuracy: 0.7656\n",
            "Epoch 120/200\n",
            "77/77 [==============================] - 0s 2ms/step - loss: 0.4770 - accuracy: 0.7643\n",
            "Epoch 121/200\n",
            "77/77 [==============================] - 0s 2ms/step - loss: 0.4657 - accuracy: 0.7904\n",
            "Epoch 122/200\n",
            "77/77 [==============================] - 0s 2ms/step - loss: 0.4710 - accuracy: 0.7617\n",
            "Epoch 123/200\n",
            "77/77 [==============================] - 0s 2ms/step - loss: 0.4805 - accuracy: 0.7695\n",
            "Epoch 124/200\n",
            "77/77 [==============================] - 0s 2ms/step - loss: 0.4642 - accuracy: 0.7682\n",
            "Epoch 125/200\n",
            "77/77 [==============================] - 0s 2ms/step - loss: 0.4827 - accuracy: 0.7708\n",
            "Epoch 126/200\n",
            "77/77 [==============================] - 0s 2ms/step - loss: 0.4663 - accuracy: 0.7721\n",
            "Epoch 127/200\n",
            "77/77 [==============================] - 0s 3ms/step - loss: 0.4837 - accuracy: 0.7747\n",
            "Epoch 128/200\n",
            "77/77 [==============================] - 0s 3ms/step - loss: 0.4770 - accuracy: 0.7656\n",
            "Epoch 129/200\n",
            "77/77 [==============================] - 0s 2ms/step - loss: 0.4718 - accuracy: 0.7773\n",
            "Epoch 130/200\n",
            "77/77 [==============================] - 0s 2ms/step - loss: 0.4641 - accuracy: 0.7669\n",
            "Epoch 131/200\n",
            "77/77 [==============================] - 0s 2ms/step - loss: 0.4703 - accuracy: 0.7669\n",
            "Epoch 132/200\n",
            "77/77 [==============================] - 0s 2ms/step - loss: 0.4797 - accuracy: 0.7604\n",
            "Epoch 133/200\n",
            "77/77 [==============================] - 0s 2ms/step - loss: 0.4788 - accuracy: 0.7760\n",
            "Epoch 134/200\n",
            "77/77 [==============================] - 0s 2ms/step - loss: 0.4705 - accuracy: 0.7669\n",
            "Epoch 135/200\n",
            "77/77 [==============================] - 0s 4ms/step - loss: 0.4587 - accuracy: 0.7760\n",
            "Epoch 136/200\n",
            "77/77 [==============================] - 0s 3ms/step - loss: 0.4600 - accuracy: 0.7799\n",
            "Epoch 137/200\n",
            "77/77 [==============================] - 0s 2ms/step - loss: 0.4611 - accuracy: 0.7852\n",
            "Epoch 138/200\n",
            "77/77 [==============================] - 0s 2ms/step - loss: 0.4659 - accuracy: 0.7630\n",
            "Epoch 139/200\n",
            "77/77 [==============================] - 0s 3ms/step - loss: 0.4905 - accuracy: 0.7604\n",
            "Epoch 140/200\n",
            "77/77 [==============================] - 0s 2ms/step - loss: 0.4675 - accuracy: 0.7669\n",
            "Epoch 141/200\n",
            "77/77 [==============================] - 0s 2ms/step - loss: 0.4762 - accuracy: 0.7760\n",
            "Epoch 142/200\n",
            "77/77 [==============================] - 0s 2ms/step - loss: 0.4944 - accuracy: 0.7539\n",
            "Epoch 143/200\n",
            "77/77 [==============================] - 0s 2ms/step - loss: 0.4972 - accuracy: 0.7617\n",
            "Epoch 144/200\n",
            "77/77 [==============================] - 0s 2ms/step - loss: 0.4733 - accuracy: 0.7643\n",
            "Epoch 145/200\n",
            "77/77 [==============================] - 0s 2ms/step - loss: 0.4754 - accuracy: 0.7721\n",
            "Epoch 146/200\n",
            "77/77 [==============================] - 0s 2ms/step - loss: 0.4626 - accuracy: 0.7852\n",
            "Epoch 147/200\n",
            "77/77 [==============================] - 0s 2ms/step - loss: 0.4813 - accuracy: 0.7708\n",
            "Epoch 148/200\n",
            "77/77 [==============================] - 0s 2ms/step - loss: 0.4558 - accuracy: 0.7747\n",
            "Epoch 149/200\n",
            "77/77 [==============================] - 0s 2ms/step - loss: 0.4642 - accuracy: 0.7852\n",
            "Epoch 150/200\n",
            "77/77 [==============================] - 0s 2ms/step - loss: 0.4646 - accuracy: 0.7643\n",
            "Epoch 151/200\n",
            "77/77 [==============================] - 0s 2ms/step - loss: 0.4630 - accuracy: 0.7708\n",
            "Epoch 152/200\n",
            "77/77 [==============================] - 0s 2ms/step - loss: 0.4546 - accuracy: 0.7760\n",
            "Epoch 153/200\n",
            "77/77 [==============================] - 0s 2ms/step - loss: 0.4790 - accuracy: 0.7812\n",
            "Epoch 154/200\n",
            "77/77 [==============================] - 0s 2ms/step - loss: 0.4729 - accuracy: 0.7695\n",
            "Epoch 155/200\n",
            "77/77 [==============================] - 0s 2ms/step - loss: 0.5052 - accuracy: 0.7500\n",
            "Epoch 156/200\n",
            "77/77 [==============================] - 0s 2ms/step - loss: 0.4712 - accuracy: 0.7812\n",
            "Epoch 157/200\n",
            "77/77 [==============================] - 0s 2ms/step - loss: 0.4582 - accuracy: 0.7773\n",
            "Epoch 158/200\n",
            "77/77 [==============================] - 0s 2ms/step - loss: 0.4642 - accuracy: 0.7747\n",
            "Epoch 159/200\n",
            "77/77 [==============================] - 0s 2ms/step - loss: 0.4646 - accuracy: 0.7617\n",
            "Epoch 160/200\n",
            "77/77 [==============================] - 0s 2ms/step - loss: 0.4590 - accuracy: 0.7799\n",
            "Epoch 161/200\n",
            "77/77 [==============================] - 0s 2ms/step - loss: 0.4924 - accuracy: 0.7786\n",
            "Epoch 162/200\n",
            "77/77 [==============================] - 0s 2ms/step - loss: 0.4617 - accuracy: 0.7812\n",
            "Epoch 163/200\n",
            "77/77 [==============================] - 0s 2ms/step - loss: 0.4622 - accuracy: 0.7812\n",
            "Epoch 164/200\n",
            "77/77 [==============================] - 0s 2ms/step - loss: 0.4597 - accuracy: 0.7760\n",
            "Epoch 165/200\n",
            "77/77 [==============================] - 0s 2ms/step - loss: 0.4817 - accuracy: 0.7617\n",
            "Epoch 166/200\n",
            "77/77 [==============================] - 0s 2ms/step - loss: 0.4508 - accuracy: 0.7956\n",
            "Epoch 167/200\n",
            "77/77 [==============================] - 0s 2ms/step - loss: 0.4711 - accuracy: 0.7708\n",
            "Epoch 168/200\n",
            "77/77 [==============================] - 0s 3ms/step - loss: 0.4684 - accuracy: 0.7643\n",
            "Epoch 169/200\n",
            "77/77 [==============================] - 0s 2ms/step - loss: 0.4613 - accuracy: 0.7826\n",
            "Epoch 170/200\n",
            "77/77 [==============================] - 0s 2ms/step - loss: 0.4751 - accuracy: 0.7526\n",
            "Epoch 171/200\n",
            "77/77 [==============================] - 0s 2ms/step - loss: 0.4765 - accuracy: 0.7721\n",
            "Epoch 172/200\n",
            "77/77 [==============================] - 0s 2ms/step - loss: 0.4643 - accuracy: 0.7734\n",
            "Epoch 173/200\n",
            "77/77 [==============================] - 0s 3ms/step - loss: 0.4728 - accuracy: 0.7721\n",
            "Epoch 174/200\n",
            "77/77 [==============================] - 0s 2ms/step - loss: 0.4966 - accuracy: 0.7669\n",
            "Epoch 175/200\n",
            "77/77 [==============================] - 0s 2ms/step - loss: 0.4552 - accuracy: 0.7760\n",
            "Epoch 176/200\n",
            "77/77 [==============================] - 0s 2ms/step - loss: 0.4517 - accuracy: 0.7930\n",
            "Epoch 177/200\n",
            "77/77 [==============================] - 0s 2ms/step - loss: 0.4896 - accuracy: 0.7526\n",
            "Epoch 178/200\n",
            "77/77 [==============================] - 0s 3ms/step - loss: 0.4897 - accuracy: 0.7721\n",
            "Epoch 179/200\n",
            "77/77 [==============================] - 0s 3ms/step - loss: 0.4743 - accuracy: 0.7786\n",
            "Epoch 180/200\n",
            "77/77 [==============================] - 0s 3ms/step - loss: 0.4655 - accuracy: 0.7734\n",
            "Epoch 181/200\n",
            "77/77 [==============================] - 0s 3ms/step - loss: 0.4702 - accuracy: 0.7656\n",
            "Epoch 182/200\n",
            "77/77 [==============================] - 0s 3ms/step - loss: 0.4493 - accuracy: 0.7669\n",
            "Epoch 183/200\n",
            "77/77 [==============================] - 0s 2ms/step - loss: 0.4496 - accuracy: 0.7891\n",
            "Epoch 184/200\n",
            "77/77 [==============================] - 0s 2ms/step - loss: 0.4927 - accuracy: 0.7604\n",
            "Epoch 185/200\n",
            "77/77 [==============================] - 0s 3ms/step - loss: 0.4583 - accuracy: 0.7786\n",
            "Epoch 186/200\n",
            "77/77 [==============================] - 0s 3ms/step - loss: 0.4586 - accuracy: 0.7617\n",
            "Epoch 187/200\n",
            "77/77 [==============================] - 0s 2ms/step - loss: 0.4540 - accuracy: 0.7812\n",
            "Epoch 188/200\n",
            "77/77 [==============================] - 0s 3ms/step - loss: 0.4814 - accuracy: 0.7604\n",
            "Epoch 189/200\n",
            "77/77 [==============================] - 0s 3ms/step - loss: 0.4615 - accuracy: 0.7799\n",
            "Epoch 190/200\n",
            "77/77 [==============================] - 0s 3ms/step - loss: 0.4850 - accuracy: 0.7591\n",
            "Epoch 191/200\n",
            "77/77 [==============================] - 0s 5ms/step - loss: 0.4697 - accuracy: 0.7578\n",
            "Epoch 192/200\n",
            "77/77 [==============================] - 0s 5ms/step - loss: 0.4507 - accuracy: 0.7878\n",
            "Epoch 193/200\n",
            "77/77 [==============================] - 0s 2ms/step - loss: 0.4494 - accuracy: 0.7878\n",
            "Epoch 194/200\n",
            "77/77 [==============================] - 0s 2ms/step - loss: 0.4426 - accuracy: 0.7852\n",
            "Epoch 195/200\n",
            "77/77 [==============================] - 0s 2ms/step - loss: 0.4454 - accuracy: 0.7904\n",
            "Epoch 196/200\n",
            "77/77 [==============================] - 0s 2ms/step - loss: 0.4631 - accuracy: 0.7734\n",
            "Epoch 197/200\n",
            "77/77 [==============================] - 0s 2ms/step - loss: 0.4717 - accuracy: 0.7773\n",
            "Epoch 198/200\n",
            "77/77 [==============================] - 0s 2ms/step - loss: 0.4617 - accuracy: 0.7891\n",
            "Epoch 199/200\n",
            "77/77 [==============================] - 0s 2ms/step - loss: 0.4557 - accuracy: 0.7799\n",
            "Epoch 200/200\n",
            "77/77 [==============================] - 0s 2ms/step - loss: 0.4677 - accuracy: 0.7669\n"
          ]
        },
        {
          "output_type": "execute_result",
          "data": {
            "text/plain": [
              "<keras.callbacks.History at 0x7f8bd7c38e50>"
            ]
          },
          "metadata": {},
          "execution_count": 32
        }
      ]
    },
    {
      "cell_type": "code",
      "source": [
        "# 결과 출력\n",
        "print(\"\\n Accuracy : %.4f\"%(model.evaluate(x,y)[1]))"
      ],
      "metadata": {
        "colab": {
          "base_uri": "https://localhost:8080/"
        },
        "id": "6Y3lNwHLSDuD",
        "outputId": "e537333d-095a-4373-ff26-48679dc267b8"
      },
      "execution_count": 34,
      "outputs": [
        {
          "output_type": "stream",
          "name": "stdout",
          "text": [
            "24/24 [==============================] - 0s 2ms/step - loss: 0.4551 - accuracy: 0.7917\n",
            "\n",
            " Accuracy : 0.7917\n"
          ]
        }
      ]
    },
    {
      "cell_type": "code",
      "source": [
        "model.evaluate(x,y)"
      ],
      "metadata": {
        "colab": {
          "base_uri": "https://localhost:8080/"
        },
        "id": "kvjfIRsXSlcQ",
        "outputId": "53338c03-535d-494f-c0c6-ca59d8a7243f"
      },
      "execution_count": 35,
      "outputs": [
        {
          "output_type": "stream",
          "name": "stdout",
          "text": [
            "24/24 [==============================] - 0s 3ms/step - loss: 0.4551 - accuracy: 0.7917\n"
          ]
        },
        {
          "output_type": "execute_result",
          "data": {
            "text/plain": [
              "[0.45514369010925293, 0.7916666865348816]"
            ]
          },
          "metadata": {},
          "execution_count": 35
        }
      ]
    },
    {
      "cell_type": "code",
      "source": [
        "model.evaluate(x,y)[0], model.evaluate(x,y)[1]"
      ],
      "metadata": {
        "colab": {
          "base_uri": "https://localhost:8080/"
        },
        "id": "d3VNJ0vPS6Qb",
        "outputId": "a942933c-5b70-4879-a84d-ccce701fca25"
      },
      "execution_count": 36,
      "outputs": [
        {
          "output_type": "stream",
          "name": "stdout",
          "text": [
            "24/24 [==============================] - 0s 3ms/step - loss: 0.4551 - accuracy: 0.7917\n",
            "24/24 [==============================] - 0s 2ms/step - loss: 0.4551 - accuracy: 0.7917\n"
          ]
        },
        {
          "output_type": "execute_result",
          "data": {
            "text/plain": [
              "(0.45514369010925293, 0.7916666865348816)"
            ]
          },
          "metadata": {},
          "execution_count": 36
        }
      ]
    },
    {
      "cell_type": "code",
      "source": [
        ""
      ],
      "metadata": {
        "id": "5FPhuzDoTB6N"
      },
      "execution_count": null,
      "outputs": []
    }
  ]
}